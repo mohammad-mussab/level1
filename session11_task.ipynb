{
  "cells": [
    {
      "cell_type": "markdown",
      "metadata": {
        "id": "view-in-github",
        "colab_type": "text"
      },
      "source": [
        "<a href=\"https://colab.research.google.com/github/mohammad-mussab/level1/blob/main/session11_task.ipynb\" target=\"_parent\"><img src=\"https://colab.research.google.com/assets/colab-badge.svg\" alt=\"Open In Colab\"/></a>"
      ]
    },
    {
      "cell_type": "markdown",
      "metadata": {
        "id": "ajVfqio_GinI"
      },
      "source": [
        "## Exception Handling\n"
      ]
    },
    {
      "cell_type": "markdown",
      "metadata": {
        "id": "0qnQkJtnGozz"
      },
      "source": [
        "###`Q-1`: You are given a function definition. There might be several issues on execution of this function. You are asked to do exception handling for diffrent errors that this function goes in to `without altering this function`. And print error text.\n",
        "\n"
      ]
    },
    {
      "cell_type": "markdown",
      "metadata": {
        "id": "2no_EB2fGyGq"
      },
      "source": [
        "Function parameters `l -> list, s -> could be anything`\n",
        "\n",
        "```\n",
        "def function(l: list, s, **args):\n",
        "    last_element = l[-1]\n",
        "    \n",
        "    l[int(s)]=10\n",
        "    any_element = l[int(s)+10]\n",
        "    l[s]=10\n",
        "    \n",
        "    res = sum(l)\n",
        "    \n",
        "    p = args['p']\n",
        "    # print(p)\n",
        "    return res/last_element * p + any_element\n",
        "\n",
        "```\n",
        "Check for different function calls:-\n",
        "\n",
        "```\n",
        "function([1,2,1], 12)\n",
        "function([1,2,1]*9, '1-2')\n",
        "function([1,'2',1]*9, 12)\n",
        "function([1,'2',1]*9, 12)\n",
        "function([1,2,0]*9, 12  )\n",
        "function([1,2,1]*9, 12, p=None)\n",
        "function([1,2,0]*9, 12, p=10)\n",
        "```"
      ]
    },
    {
      "cell_type": "code",
      "execution_count": null,
      "metadata": {
        "colab": {
          "base_uri": "https://localhost:8080/"
        },
        "id": "VoaL4_9eGjFU",
        "outputId": "f41c886a-aae8-4438-8b9f-9a368762bd56"
      },
      "outputs": [
        {
          "name": "stdout",
          "output_type": "stream",
          "text": [
            "Error: Index out of range.\n",
            "Error: `s` must be convertible to an integer.\n",
            "Error: The list contains non-numeric elements.\n",
            "Error: The list contains non-numeric elements.\n",
            "Error: The key 'p' is missing in the arguments.\n",
            "Error: Invalid operation due to NoneType or incompatible types.\n",
            "Error: Division by zero.\n"
          ]
        }
      ],
      "source": [
        "# Write code here\n",
        "def funtion(l:list , s, **args):\n",
        "  try:\n",
        "    last_element = l[-1]\n",
        "  except IndexError:\n",
        "    print(\"There is an index error.\")\n",
        "\n",
        "\n",
        "  try:\n",
        "        # Attempt to modify and access elements in the list\n",
        "        l[int(s)] = 10\n",
        "        any_element = l[int(s) + 10]\n",
        "        l[s] = 10  # Will raise TypeError if `s` is not an integer\n",
        "  except ValueError:\n",
        "        print(\"Error: `s` must be convertible to an integer.\")\n",
        "        return\n",
        "  except IndexError:\n",
        "        print(\"Error: Index out of range.\")\n",
        "        return\n",
        "  except TypeError:\n",
        "        print(\"Error: Invalid index type.\")\n",
        "        return\n",
        "  try:\n",
        "    res = sum(l)\n",
        "  except TypeError:\n",
        "    print(\"Error: list contain non-numeric elements\")\n",
        "    return\n",
        "  try:\n",
        "    p = args['p']\n",
        "  except KeyError:\n",
        "    print(\"Key p is missing in the argument\")\n",
        "    return\n",
        "\n",
        "  try:\n",
        "    result: res/last_element * p + any_element\n",
        "    print(f\"Result {result}\")\n",
        "  except TypeError:\n",
        "    print(\"The type must be valid\")\n",
        "  except ZeroDivisionError:\n",
        "    print(\"Error: Division by zero\")\n",
        "\n",
        "function([1,2,1], 12)\n",
        "function([1,2,1]*9, '1-2')\n",
        "function([1,'2',1]*9, 12)\n",
        "function([1,'2',1]*9, 12)\n",
        "function([1,2,0]*9, 12  )\n",
        "function([1,2,1]*9, 12, p=None)\n",
        "function([1,2,0]*9, 12, p=10)"
      ]
    },
    {
      "cell_type": "markdown",
      "metadata": {
        "id": "HuLMy2fVG9sL"
      },
      "source": [
        "###`Q-2:` You are given a code snippet. There might be several issues on execution of this code. You are asked to do exception handling for diffrent errors, condition is what ever happens we need to execute last line printing correct result of `sum of elements`.\n",
        "\n",
        "List have elemnts as any no of  `key-pair dict with key as list index and value as any integer`, `integers` and `numeric-strings`. There is always only one element in the dict.\n",
        "\n",
        "\n",
        "```\n",
        "l = [{0:2},2,3,4,'5', {5:10}]\n",
        "# For calculating sum of above list\n",
        "s=0\n",
        "for i in range(len(l)):\n",
        "    #You can Edit code from here\n",
        "    s += l[i].get(i)\n",
        "    s += l[i]\n",
        "    s += int(l[i])\n",
        "\n",
        "\n",
        "print(s)\n",
        "```"
      ]
    },
    {
      "cell_type": "code",
      "execution_count": null,
      "metadata": {
        "colab": {
          "base_uri": "https://localhost:8080/"
        },
        "id": "pEP8JU0qHAf8",
        "outputId": "fbea355f-e77a-44fd-cd95-5458abf8caba"
      },
      "outputs": [
        {
          "name": "stdout",
          "output_type": "stream",
          "text": [
            "35\n"
          ]
        }
      ],
      "source": [
        "# Write code here\n",
        "l = [{0:2},2,3,4,'5', {5:10}]\n",
        "# For calculating sum of above list\n",
        "s=0\n",
        "for i in range(len(l)):\n",
        "    #You can Edit code from here\n",
        "    try:\n",
        "      s += l[i].get(i)\n",
        "    except AttributeError:\n",
        "      pass\n",
        "    try:\n",
        "      s += l[i]\n",
        "    except  TypeError:\n",
        "      pass\n",
        "    try:\n",
        "      s += int(l[i])\n",
        "    except ValueError:\n",
        "      pass\n",
        "    except TypeError:\n",
        "      pass\n",
        "\n",
        "\n",
        "print(s)"
      ]
    },
    {
      "cell_type": "markdown",
      "metadata": {
        "id": "ohE2fDTXHIan"
      },
      "source": [
        "### `Q-3:`: File Handling with Exception handling\n",
        "\n",
        "Write a program that opens a text file and write data to it as \"Hello, Good Morning!!!\". Handle exceptions that can be generated during the I/O operations. Do not show the success message on the main exception handling block (write inside the else block)."
      ]
    },
    {
      "cell_type": "code",
      "execution_count": null,
      "metadata": {
        "colab": {
          "base_uri": "https://localhost:8080/"
        },
        "id": "iOeiWrcIHPlY",
        "outputId": "4ef0a5ab-a56d-4668-f7b1-6fe6c8d43807"
      },
      "outputs": [
        {
          "name": "stdout",
          "output_type": "stream",
          "text": [
            "Successfull.\n"
          ]
        }
      ],
      "source": [
        "# write code here\n",
        "try:\n",
        "  with open(\"sample.txt\", \"w\") as f:\n",
        "    f.write(\"Hello, Good Morning!!!\")\n",
        "except FileNotFoundError:\n",
        "  print(\"File not found.\")\n",
        "except PermissionError:\n",
        "  print(\"Persmission is not given\")\n",
        "except IOError:\n",
        "  print('Some Error occured.')\n",
        "else:\n",
        "  print(\"Successfull.\")\n",
        "finally:\n",
        "  f.close()"
      ]
    },
    {
      "cell_type": "markdown",
      "metadata": {
        "id": "ru8g8-_bHTUf"
      },
      "source": [
        "### `Q-4`: Number game program.\n",
        "\n",
        "Write a number game program. Ask the user to enter a number. If the number is greater than number to be guessed, raise a **ValueTooLarge** exception. If the value is smaller the number to be guessed the, raise a **ValueTooSmall** exception and prompt the user to enter again. Quit the program only when the user enters the correct number. Also raise **GuessError** if user guess a number less than 1."
      ]
    },
    {
      "cell_type": "code",
      "execution_count": null,
      "metadata": {
        "id": "QftlN5LJHZSX",
        "colab": {
          "base_uri": "https://localhost:8080/"
        },
        "outputId": "160201ef-1b40-4e6e-c581-8755eecaf879"
      },
      "outputs": [
        {
          "output_type": "stream",
          "name": "stdout",
          "text": [
            "Enter your number.4\n",
            "Guess a larger number!\n",
            "Enter your number.5\n",
            "Guess a larger number!\n",
            "Enter your number.6\n",
            "Guess a larger number!\n",
            "Enter your number.10\n",
            "You guessed it right!\n"
          ]
        }
      ],
      "source": [
        "# Write code here\n",
        "class NumberError(Exception):\n",
        "    \"\"\"Base class for custom number exceptions.\"\"\"\n",
        "    pass\n",
        "\n",
        "class LargeValueError(NumberError):\n",
        "    pass\n",
        "\n",
        "class SmallValueError(NumberError):\n",
        "    pass\n",
        "\n",
        "class GuessError(NumberError):\n",
        "    pass\n",
        "\n",
        "\n",
        "class GuessNumber:\n",
        "  def __init__(self):\n",
        "    self.targer_number = 10\n",
        "  def guessNumber(self):\n",
        "    while True:\n",
        "      try:\n",
        "        user_input = int(input(\"Enter your number.\"))\n",
        "        if user_input < 1:\n",
        "          raise GuessError(\"The number should be greater than 1.\")\n",
        "\n",
        "        if user_input < self.targer_number:\n",
        "          raise SmallValueError(\"Guess a larger number!\")\n",
        "\n",
        "        elif user_input > self.targer_number:\n",
        "          raise LargeValueError(\"Guess a smaller number.\")\n",
        "\n",
        "        else:\n",
        "          print(\"You guessed it right!\")\n",
        "          break\n",
        "      except ValueError:\n",
        "        print(\"You must have to enter integer.\")\n",
        "\n",
        "            # Handle GuessError\n",
        "      except GuessError as e:\n",
        "                print(e)\n",
        "\n",
        "            # Handle SmallValueError\n",
        "      except SmallValueError as e:\n",
        "                print(e)\n",
        "\n",
        "            # Handle LargeValueError\n",
        "      except LargeValueError as e:\n",
        "                print(e)\n",
        "\n",
        "# Create an object and start the game\n",
        "Obj = GuessNumber()\n",
        "Obj.guessNumber()\n",
        "\n"
      ]
    },
    {
      "cell_type": "markdown",
      "metadata": {
        "id": "ZsGI_40fHcsd"
      },
      "source": [
        "### `Q-5:` Cast vote\n",
        "\n",
        "Write a program that validate name and age as entered by the user to determine whether the person can cast vote or not. To handle the age, create **InvalidAge** exception and for name, create **InvalidName** exception. The name will be invalid when the string will be empty or name has only one word.\n",
        "\n",
        "Example 1:\n",
        "\n",
        "Input:\n",
        "\n",
        "```bash\n",
        "Enter the name:               goransh singh\n",
        "Enter the age: 25\n",
        "```\n",
        "\n",
        "Output:\n",
        "\n",
        "```bash\n",
        "Goransh Singh  Congratulation !!! You can vote.\n",
        "```"
      ]
    },
    {
      "cell_type": "code",
      "execution_count": null,
      "metadata": {
        "id": "OHL3UiS4Hi3U",
        "colab": {
          "base_uri": "https://localhost:8080/"
        },
        "outputId": "c2d79d72-8285-41ee-b3ff-61a26eae220e"
      },
      "outputs": [
        {
          "output_type": "stream",
          "name": "stdout",
          "text": [
            "Enter your full namesohaib ayyar\n",
            "Enter your age65\n",
            "Congratulatins sohaib ayyar. You can vote\n"
          ]
        }
      ],
      "source": [
        " from logging import error\n",
        "# Write code here\n",
        "class InvalidAge(Exception):\n",
        "  pass\n",
        "class InvalidName(Exception):\n",
        "  pass\n",
        "class CastVote:\n",
        "  def main(self):\n",
        "    while True:\n",
        "      try:\n",
        "        name = str(input(\"Enter your full name\"))\n",
        "        splitted_names_list = name.split(\" \")\n",
        "        count_names = len(splitted_names_list)\n",
        "        if count_names == 0 or count_names == 1:\n",
        "          raise InvalidName(\"Invalid name!\")\n",
        "        else:\n",
        "          age = int(input(\"Enter your age\"))\n",
        "          if age < 1:\n",
        "            raise InvalidAge(\"Value must not be negative.\")\n",
        "          elif age < 18:\n",
        "            raise InvalidAge(\"You are not eligible!\")\n",
        "          else:\n",
        "            print(f\"Congratulatins {name}. You can vote\")\n",
        "            break\n",
        "      except ValueError as e:\n",
        "        print(e)\n",
        "      except NameError as e:\n",
        "        print(e)\n",
        "\n",
        "Obj = CastVote()\n",
        "Obj.main()"
      ]
    },
    {
      "cell_type": "markdown",
      "metadata": {
        "id": "SCvs0QjgHlOG"
      },
      "source": [
        "### `Q-6`: Write a python function which infinitely prints natural numbers in a single line. Raise the **StopIteration** exception after displaying first 20 numnbers to exit from the program."
      ]
    },
    {
      "cell_type": "code",
      "execution_count": 5,
      "metadata": {
        "id": "Lc5ilNgNHoSx",
        "colab": {
          "base_uri": "https://localhost:8080/",
          "height": 644
        },
        "outputId": "b90bf23f-c158-4eab-bd2a-511444823362"
      },
      "outputs": [
        {
          "output_type": "stream",
          "name": "stdout",
          "text": [
            "0\n",
            "1\n",
            "2\n",
            "3\n",
            "4\n",
            "5\n",
            "6\n",
            "7\n",
            "8\n",
            "9\n",
            "10\n",
            "11\n",
            "12\n",
            "13\n",
            "14\n",
            "15\n",
            "16\n",
            "17\n",
            "18\n",
            "19\n"
          ]
        },
        {
          "output_type": "error",
          "ename": "StopIteration",
          "evalue": "20 numbers has been printed. Stop!",
          "traceback": [
            "\u001b[0;31m---------------------------------------------------------------------------\u001b[0m",
            "\u001b[0;31mStopIteration\u001b[0m                             Traceback (most recent call last)",
            "\u001b[0;32m<ipython-input-5-55fa6be96753>\u001b[0m in \u001b[0;36m<cell line: 0>\u001b[0;34m()\u001b[0m\n\u001b[1;32m     10\u001b[0m       \u001b[0;32mraise\u001b[0m \u001b[0mStopIteration\u001b[0m\u001b[0;34m(\u001b[0m\u001b[0;34m\"20 numbers has been printed. Stop!\"\u001b[0m\u001b[0;34m)\u001b[0m\u001b[0;34m\u001b[0m\u001b[0;34m\u001b[0m\u001b[0m\n\u001b[1;32m     11\u001b[0m \u001b[0;34m\u001b[0m\u001b[0m\n\u001b[0;32m---> 12\u001b[0;31m \u001b[0mNaturalNumbers\u001b[0m\u001b[0;34m(\u001b[0m\u001b[0;34m)\u001b[0m\u001b[0;34m\u001b[0m\u001b[0;34m\u001b[0m\u001b[0m\n\u001b[0m",
            "\u001b[0;32m<ipython-input-5-55fa6be96753>\u001b[0m in \u001b[0;36mNaturalNumbers\u001b[0;34m()\u001b[0m\n\u001b[1;32m      8\u001b[0m     \u001b[0mi\u001b[0m \u001b[0;34m+=\u001b[0m \u001b[0;36m1\u001b[0m\u001b[0;34m\u001b[0m\u001b[0;34m\u001b[0m\u001b[0m\n\u001b[1;32m      9\u001b[0m     \u001b[0;32mif\u001b[0m \u001b[0mi\u001b[0m \u001b[0;34m==\u001b[0m \u001b[0;36m20\u001b[0m\u001b[0;34m:\u001b[0m\u001b[0;34m\u001b[0m\u001b[0;34m\u001b[0m\u001b[0m\n\u001b[0;32m---> 10\u001b[0;31m       \u001b[0;32mraise\u001b[0m \u001b[0mStopIteration\u001b[0m\u001b[0;34m(\u001b[0m\u001b[0;34m\"20 numbers has been printed. Stop!\"\u001b[0m\u001b[0;34m)\u001b[0m\u001b[0;34m\u001b[0m\u001b[0;34m\u001b[0m\u001b[0m\n\u001b[0m\u001b[1;32m     11\u001b[0m \u001b[0;34m\u001b[0m\u001b[0m\n\u001b[1;32m     12\u001b[0m \u001b[0mNaturalNumbers\u001b[0m\u001b[0;34m(\u001b[0m\u001b[0;34m)\u001b[0m\u001b[0;34m\u001b[0m\u001b[0;34m\u001b[0m\u001b[0m\n",
            "\u001b[0;31mStopIteration\u001b[0m: 20 numbers has been printed. Stop!"
          ]
        }
      ],
      "source": [
        "# Write code here\n",
        "class StopIteration(Exception):\n",
        "  pass\n",
        "def NaturalNumbers():\n",
        "  i = 0\n",
        "  while True:\n",
        "    print(i)\n",
        "    i += 1\n",
        "    if i == 20:\n",
        "      raise StopIteration(\"20 numbers has been printed. Stop!\")\n",
        "\n",
        "NaturalNumbers()\n"
      ]
    }
  ],
  "metadata": {
    "colab": {
      "provenance": [],
      "include_colab_link": true
    },
    "kernelspec": {
      "display_name": "Python 3",
      "name": "python3"
    },
    "language_info": {
      "name": "python"
    }
  },
  "nbformat": 4,
  "nbformat_minor": 0
}