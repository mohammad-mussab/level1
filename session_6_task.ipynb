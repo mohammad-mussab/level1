{
  "nbformat": 4,
  "nbformat_minor": 0,
  "metadata": {
    "colab": {
      "provenance": [],
      "include_colab_link": true
    },
    "kernelspec": {
      "name": "python3",
      "display_name": "Python 3"
    },
    "language_info": {
      "name": "python"
    }
  },
  "cells": [
    {
      "cell_type": "markdown",
      "metadata": {
        "id": "view-in-github",
        "colab_type": "text"
      },
      "source": [
        "<a href=\"https://colab.research.google.com/github/mohammad-mussab/level1/blob/main/session_6_task.ipynb\" target=\"_parent\"><img src=\"https://colab.research.google.com/assets/colab-badge.svg\" alt=\"Open In Colab\"/></a>"
      ]
    },
    {
      "cell_type": "markdown",
      "source": [
        "### **`Problem-1:`** Write a Python function that takes a list and returns a new list with unique elements of the first list.\n",
        "\n",
        "**Exercise 1:**\n",
        "\n",
        "Input:\n",
        "\n",
        "```bash\n",
        "[1,2,3,3,3,3,4,5]\n",
        "```\n",
        "\n",
        "Output:\n",
        "\n",
        "```bash\n",
        "[1, 2, 3, 4, 5]\n",
        "```"
      ],
      "metadata": {
        "id": "h6dDSW5XGZFi"
      }
    },
    {
      "cell_type": "code",
      "source": [
        "lst = [1,2,3,3,3,3,4,5]\n",
        "\n",
        "def unique_elem(lst):\n",
        "  unique_elem = set(lst)\n",
        "  return list(unique_elem)\n",
        "\n",
        "unique_elem(lst)\n"
      ],
      "metadata": {
        "id": "R5pq1C9LGe1y",
        "colab": {
          "base_uri": "https://localhost:8080/"
        },
        "outputId": "83408b1f-ef41-4683-8723-441dee1a3c6d"
      },
      "execution_count": null,
      "outputs": [
        {
          "output_type": "execute_result",
          "data": {
            "text/plain": [
              "[1, 2, 3, 4, 5]"
            ]
          },
          "metadata": {},
          "execution_count": 3
        }
      ]
    },
    {
      "cell_type": "markdown",
      "source": [
        "### **`Problem-2:`** Write a Python function that accepts a hyphen-separated sequence of words as parameter and returns the words in a hyphen-separated sequence after sorting them alphabetically.\n",
        "\n",
        "**Example 1:**\n",
        "\n",
        "Input:\n",
        "```bash\n",
        "green-red-yellow-black-white\n",
        "```\n",
        "\n",
        "Output:\n",
        "```bash\n",
        "black-green-red-white-yellow\n",
        "```"
      ],
      "metadata": {
        "id": "UxQ_VoyJGwHj"
      }
    },
    {
      "cell_type": "code",
      "source": [
        "# Write code here\n",
        "def sort_words(hyphen_sep_words):\n",
        "  splitted_words = hyphen_sep_words.split(\"-\")\n",
        "  sorted_words = sorted(splitted_words)\n",
        "  result = \"-\".join(sorted_words)\n",
        "  return result\n",
        "\n",
        "hyphen_sep_words = \"green-red-yellow-black-white\"\n",
        "sort_words(hyphen_sep_words)"
      ],
      "metadata": {
        "id": "AAts2m5zGwiQ",
        "colab": {
          "base_uri": "https://localhost:8080/",
          "height": 35
        },
        "outputId": "dac4136d-c1b2-41e8-bb20-4ecab740ec0c"
      },
      "execution_count": null,
      "outputs": [
        {
          "output_type": "execute_result",
          "data": {
            "text/plain": [
              "'black-green-red-white-yellow'"
            ],
            "application/vnd.google.colaboratory.intrinsic+json": {
              "type": "string"
            }
          },
          "metadata": {},
          "execution_count": 10
        }
      ]
    },
    {
      "cell_type": "markdown",
      "source": [
        "### **`Problem 3:`** Write a Python function that accepts a string and calculate the number of upper case letters and lower case letters.\n",
        "\n",
        "```\n",
        "Sample String : 'CampusX is an Online Mentorship Program fOr EnginEering studentS.'\n",
        "Expected Output :\n",
        "No. of Upper case characters :  9\n",
        "No. of Lower case Characters :  47\n",
        "```"
      ],
      "metadata": {
        "id": "IRGH62S7Gx_n"
      }
    },
    {
      "cell_type": "code",
      "source": [
        "# Write code here\n",
        "def count_upper_lower(user_input):\n",
        "  # upper_count = user_input.count()\n",
        "  upper_count = 0\n",
        "  lower_count = 0\n",
        "  for char in user_input:\n",
        "    if char.isupper():\n",
        "      upper_count += 1\n",
        "    elif char.islower():\n",
        "      lower_count += 1\n",
        "  return upper_count, lower_count\n",
        "\n",
        "user_input = 'CampusX is an Online Mentorship Program fOr EnginEering studentS.'\n",
        "upper_count, lower_count = count_upper_lower(user_input)\n",
        "print(f\"No. of Upper case characters : {upper_count}\\nNo. of Lower case Characters : {lower_count}\")\n",
        "\n"
      ],
      "metadata": {
        "id": "OaUrD8vVG5o8",
        "colab": {
          "base_uri": "https://localhost:8080/"
        },
        "outputId": "fd3f373e-607a-4e8a-8c4a-fab0bc45d680"
      },
      "execution_count": null,
      "outputs": [
        {
          "output_type": "stream",
          "name": "stdout",
          "text": [
            "No. of Upper case characters : 9\n",
            "No. of Lower case Characters : 47\n"
          ]
        }
      ]
    },
    {
      "cell_type": "markdown",
      "source": [
        "### **`Problem 4:`** Write a Python program to print the even numbers from a given list.\n",
        "```\n",
        "Sample List : [1, 2, 3, 4, 5, 6, 7, 8, 9]\n",
        "Expected Result : [2, 4, 6, 8]\n",
        "```"
      ],
      "metadata": {
        "id": "V1BFFdYQG7Sn"
      }
    },
    {
      "cell_type": "code",
      "source": [
        "# Write code here\n",
        "user_input = [1, 2, 3, 4, 5, 6, 7, 8, 9]\n",
        "even_check = lambda x: x % 2 == 0\n",
        "print(list(filter(even_check, user_input)))\n"
      ],
      "metadata": {
        "id": "VvAReLoDG_Z3",
        "colab": {
          "base_uri": "https://localhost:8080/"
        },
        "outputId": "14b66137-a426-47c1-9e88-46261502e215"
      },
      "execution_count": null,
      "outputs": [
        {
          "output_type": "stream",
          "name": "stdout",
          "text": [
            "[2, 4, 6, 8]\n"
          ]
        }
      ]
    },
    {
      "cell_type": "markdown",
      "source": [
        "### **`Problem 5:`** Write a Python function to check whether a number is perfect or not.\n",
        "\n",
        "A Perfect number is a number that is half the sum of all of its positive divisors (including itself).\n",
        "\n",
        "Example :\n",
        "\n",
        "```\n",
        "The first perfect number is 6, because 1, 2, and 3 are its proper positive divisors, and 1 + 2 + 3 = 6.\n",
        "Equivalently, the number 6 is equal to half the sum of all its positive divisors: ( 1 + 2 + 3 + 6 ) / 2 = 6.\n",
        "\n",
        "The next perfect number is 28 = 1 + 2 + 4 + 7 + 14. This is followed by the perfect numbers 496 and 8128.\n",
        "```\n"
      ],
      "metadata": {
        "id": "qrK39Gn-HHb4"
      }
    },
    {
      "cell_type": "code",
      "source": [
        "# Write code here\n",
        "def perfect_number(num):\n",
        "  if num <= 0:\n",
        "    print(\"Please enter a positive integer.\")\n",
        "    return\n",
        "  divisors = []\n",
        "\n",
        "  for i in range(1,num):\n",
        "    if num % i == 0:\n",
        "        divisors.append(i)\n",
        "\n",
        "\n",
        "  sum_of_divisors = sum(divisors)\n",
        "\n",
        "  if sum_of_divisors == num :\n",
        "    print(\"This is a perfect number.\")\n",
        "  else:\n",
        "    print(\"This is not perfect number.\")\n",
        "num = 6\n",
        "perfect_number(num)\n"
      ],
      "metadata": {
        "id": "P-OI7H78HICs",
        "colab": {
          "base_uri": "https://localhost:8080/"
        },
        "outputId": "caabeb86-272e-4c50-d880-26d0d318289a"
      },
      "execution_count": null,
      "outputs": [
        {
          "output_type": "stream",
          "name": "stdout",
          "text": [
            "This is a perfect number.\n"
          ]
        }
      ]
    },
    {
      "cell_type": "markdown",
      "source": [
        "### **`Problem-6:`** Write a Python function to concatenate any no of dictionaries to create a new one.\n",
        "\n",
        "```\n",
        "Sample Dictionary :\n",
        "dic1={1:10, 2:20}\n",
        "dic2={3:30, 4:40}\n",
        "dic3={5:50,6:60}\n",
        "Expected Result : {1: 10, 2: 20, 3: 30, 4: 40, 5: 50, 6: 60}\n",
        "```"
      ],
      "metadata": {
        "id": "oZdpcG77HO-6"
      }
    },
    {
      "cell_type": "code",
      "source": [
        "# Write code here\n",
        "def concatenate_dict(*kwargs):\n",
        "  \"\"\"Fucntion for concatenatinng dictionaries\"\"\"\n",
        "  concatenated_dict = {}\n",
        "  for dic in kwargs:\n",
        "    for key,value in dic.items():\n",
        "      concatenated_dict[key] = value\n",
        "  return concatenated_dict\n",
        "concatenate_dict({1:10, 2:20},{3:30, 4:40},{5:50,6:60})"
      ],
      "metadata": {
        "id": "LQgfAY4ZHPhj",
        "colab": {
          "base_uri": "https://localhost:8080/"
        },
        "outputId": "3f3c2e1d-0c93-400c-874f-7f44ab704766"
      },
      "execution_count": null,
      "outputs": [
        {
          "output_type": "execute_result",
          "data": {
            "text/plain": [
              "{1: 10, 2: 20, 3: 30, 4: 40, 5: 50, 6: 60}"
            ]
          },
          "metadata": {},
          "execution_count": 10
        }
      ]
    },
    {
      "cell_type": "code",
      "source": [
        "print(concatenate_dict.__doc__)"
      ],
      "metadata": {
        "colab": {
          "base_uri": "https://localhost:8080/"
        },
        "id": "WgSZFxUv2Z5L",
        "outputId": "421d98e4-af10-4a2c-debd-0aca93599369"
      },
      "execution_count": null,
      "outputs": [
        {
          "output_type": "stream",
          "name": "stdout",
          "text": [
            "Fucntion for concatenatinng dictionaries\n"
          ]
        }
      ]
    },
    {
      "cell_type": "markdown",
      "source": [
        "`Problem-7` Write a python function that accepts a string as input and returns the word with most occurence.\n",
        "\n",
        "```\n",
        "Input:\n",
        "hello how are you i am fine thank you\n",
        "```\n",
        "\n",
        "```\n",
        "Output\n",
        "you -> 2\n",
        "```"
      ],
      "metadata": {
        "id": "jQ6SzbCkHRd0"
      }
    },
    {
      "cell_type": "code",
      "source": [
        "# Write code here\n",
        "def most_occur_word(user_input):\n",
        "  words = user_input.split(\" \")\n",
        "  words_count_list = []\n",
        "  for word in words:\n",
        "    counted_words = words.count(word)\n",
        "    words_count_list.append(counted_words)\n",
        "\n",
        "  number = max(words_count_list)\n",
        "  number_index = words_count_list.index(number)\n",
        "  most_occur_word = words[number_index]\n",
        "  return most_occur_word\n",
        "\n",
        "user_input = \"hello how are you i am fine thank you\"\n",
        "output = most_occur_word(user_input)\n",
        "print(output)"
      ],
      "metadata": {
        "id": "Lh04JHLzIW7Z",
        "colab": {
          "base_uri": "https://localhost:8080/"
        },
        "outputId": "4ca6626c-6a63-4bc0-a8c2-83c55bfa8938"
      },
      "execution_count": null,
      "outputs": [
        {
          "output_type": "stream",
          "name": "stdout",
          "text": [
            "you\n"
          ]
        }
      ]
    },
    {
      "cell_type": "markdown",
      "source": [
        "`Problem-8` Write a python function that receives a list of integers and prints out a histogram of bin size 10\n",
        "\n",
        "```\n",
        "Input:\n",
        "[13,42,15,37,22,39,41,50]\n",
        "```\n",
        "\n",
        "```\n",
        "Output:\n",
        "{11-20:2,21-30:1,31-40:2,41-50:3}\n",
        "```"
      ],
      "metadata": {
        "id": "1r8SpVntI-IW"
      }
    },
    {
      "cell_type": "code",
      "source": [
        "def print_histogram(numbers):\n",
        "\n",
        "    bins = {}\n",
        "\n",
        "    for number in numbers:\n",
        "        bin_start = (number // 10) * 10 + 1\n",
        "        bin_end = bin_start + 9\n",
        "        bin_key = f\"{bin_start}-{bin_end}\"\n",
        "\n",
        "\n",
        "        if bin_key not in bins:\n",
        "            bins[bin_key] = 0\n",
        "\n",
        "\n",
        "        bins[bin_key] += 1\n",
        "\n",
        "    print(\"{\", end=\"\")\n",
        "    print(\", \".join([f\"{key}:{value}\" for key, value in sorted(bins.items())]), end=\"\")\n",
        "    print(\"}\")\n",
        "\n",
        "\n",
        "numbers = [13, 42, 15, 37, 22, 39, 41, 50]\n",
        "print_histogram(numbers)\n"
      ],
      "metadata": {
        "id": "7W0J8rUjJovg",
        "colab": {
          "base_uri": "https://localhost:8080/"
        },
        "outputId": "c00d3e09-d826-43d5-845b-e0b9edd82029"
      },
      "execution_count": null,
      "outputs": [
        {
          "output_type": "stream",
          "name": "stdout",
          "text": [
            "{11-20:2, 21-30:1, 31-40:2, 41-50:2, 51-60:1}\n"
          ]
        }
      ]
    },
    {
      "cell_type": "markdown",
      "source": [
        "`Problem-9` Write a python function that accepts a list of 2D co-ordinates and a query point, and then finds the the co-ordinate which is closest in terms of distance from the query point.\n",
        "\n",
        "```\n",
        "List of Coordinates\n",
        "[(1,1),(2,2),(3,3),(4,4)]\n",
        "Query Point\n",
        "(0,0)\n",
        "```\n",
        "\n",
        "```\n",
        "Output\n",
        "Nearest to (0,0) is (1,1)\n",
        "```"
      ],
      "metadata": {
        "id": "1P2-rbgXKE53"
      }
    },
    {
      "cell_type": "code",
      "source": [
        "# Write code here\n",
        "def find_closest_coordinate(coordinate,query_point):\n",
        "  min_dis = float(\"inf\")\n",
        "  closest_coordinate = None\n",
        "\n",
        "  for coordinate in coordinates:\n",
        "    squared_distance = (coordinate[0]-query_point[0])**2 + (coordinate[1] - query_point[1])\n",
        "    if squared_distance < min_dis :\n",
        "      min_dis = squared_distance\n",
        "      closest_coordinate = coordinate\n",
        "  return closest_coordinate\n",
        "\n",
        "coordinates = [(1,1), (2,2), (3,3), (4,4)]\n",
        "\n",
        "query_point = (0,0)\n",
        "\n",
        "\n",
        "closest = find_closest_coordinate(coordinates, query_point)\n",
        "\n",
        "\n",
        "print(f\"Nearest to {query_point} is {closest}\")"
      ],
      "metadata": {
        "id": "zjn7vSTIJ81G",
        "colab": {
          "base_uri": "https://localhost:8080/"
        },
        "outputId": "d2476719-8e98-4007-d641-7fbc010ec250"
      },
      "execution_count": 1,
      "outputs": [
        {
          "output_type": "stream",
          "name": "stdout",
          "text": [
            "Nearest to (0, 0) is (1, 1)\n"
          ]
        }
      ]
    },
    {
      "cell_type": "markdown",
      "source": [
        "`Problem-10`:Write a python program that receives a list of strings and performs bag of word operation on those strings\n",
        "\n",
        "https://en.wikipedia.org/wiki/Bag-of-words_model"
      ],
      "metadata": {
        "id": "i-B6igmyK9hB"
      }
    },
    {
      "cell_type": "code",
      "source": [
        "# Write code here\n",
        "def bag_of_words(string):\n",
        "  vocabulary = set()\n",
        "  splitted_words = string.split(\" \")\n",
        "  vocabulary.update(splitted_words)\n",
        "  word_counts = []\n",
        "  word_count = dict.fromkeys(vocabulary, 0)\n",
        "  for word in splitted_words:\n",
        "    word_count[word] += 1\n",
        "  word_counts.append(word_count)\n",
        "  return vocabulary, word_counts\n",
        "\n",
        "\n",
        "string = 'John likes to watch movies. Mary likes movies too.'\n",
        "vocabulary, word_counts = bag_of_words(string)\n",
        "bag_of_words(string)\n",
        "print(\"Vocabulary:\", vocabulary)\n",
        "print(\"Word Counts:\")\n",
        "for count in word_counts:\n",
        "    print(count)"
      ],
      "metadata": {
        "id": "N2l1_AWULT-z",
        "colab": {
          "base_uri": "https://localhost:8080/"
        },
        "outputId": "c4ea0c73-d78d-42c2-8f55-50f614098f6e"
      },
      "execution_count": 29,
      "outputs": [
        {
          "output_type": "stream",
          "name": "stdout",
          "text": [
            "Vocabulary: {'movies', 'Mary', 'watch', 'John', 'too.', 'to', 'likes', 'movies.'}\n",
            "Word Counts:\n",
            "{'movies': 1, 'Mary': 1, 'watch': 1, 'John': 1, 'too.': 1, 'to': 1, 'likes': 2, 'movies.': 1}\n"
          ]
        }
      ]
    },
    {
      "cell_type": "markdown",
      "source": [
        "###`Problem 11:` Write a Python program to add three given lists using Python map and lambda."
      ],
      "metadata": {
        "id": "dHTRKb-DqMLw"
      }
    },
    {
      "cell_type": "code",
      "source": [
        "# Write code here\n",
        "list1 = [1,2,3,4,5]\n",
        "list2 = [6,7,8,9,10]\n",
        "list3 = [11,12,13,14,15]\n",
        "\n",
        "def add_lists(list1,list2,list3):\n",
        "  add_lists = list(map(lambda x, y, z: x + y + z, list1, list2, list3))\n",
        "  return add_lists\n",
        "result = add_lists(list1, list2, list3)\n",
        "print(result)\n"
      ],
      "metadata": {
        "id": "NfJdzyNZqNW-",
        "colab": {
          "base_uri": "https://localhost:8080/"
        },
        "outputId": "7a90ba82-47bf-496b-b0df-cd127cbe625e"
      },
      "execution_count": 5,
      "outputs": [
        {
          "output_type": "stream",
          "name": "stdout",
          "text": [
            "[18, 21, 24, 27, 30]\n"
          ]
        }
      ]
    },
    {
      "cell_type": "markdown",
      "source": [
        "###`Problem-12:`Write a Python program to create a list containing the power of said number in bases raised to the corresponding number in the index using Python map.\n",
        "`Input:`\n",
        "```\n",
        "list1 = [1,2,3,4,5,6]\n",
        "```\n",
        "`Output:`\n",
        "```\n",
        "[1,2,9,64,625,-]\n",
        "```\n"
      ],
      "metadata": {
        "id": "MgHP7mbUqO8l"
      }
    },
    {
      "cell_type": "code",
      "source": [
        "# Write code here\n",
        "def index_power(list1):\n",
        "  powered_index_list = list(map(lambda x,i : x**i , list1 , range(len(list1))))\n",
        "  return powered_index_list\n",
        "list1 = [1,2,3,4,5,6]\n",
        "index_power(list1)"
      ],
      "metadata": {
        "id": "gG3Dc6N3qbvN",
        "colab": {
          "base_uri": "https://localhost:8080/"
        },
        "outputId": "d2ff2b85-941b-424f-eb91-5bcc89274346"
      },
      "execution_count": 8,
      "outputs": [
        {
          "output_type": "execute_result",
          "data": {
            "text/plain": [
              "[1, 2, 9, 64, 625, 7776]"
            ]
          },
          "metadata": {},
          "execution_count": 8
        }
      ]
    },
    {
      "cell_type": "markdown",
      "source": [
        "###`Problem-13` Using filter() and list() functions and .lower() method filter all the vowels in a given string.\n",
        "\n"
      ],
      "metadata": {
        "id": "G26SYq6vqdLN"
      }
    },
    {
      "cell_type": "code",
      "source": [
        "# Write code here\n",
        "def filter_vowels(input_string):\n",
        "  vowels = set('aeiou')\n",
        "  filtered_vowels = filter(lambda char : char.lower() in vowels , input_string)\n",
        "  result = list(filtered_vowels)\n",
        "\n",
        "  return result\n",
        "input_string = \"Hello World, Programming in Python!\"\n",
        "output = filter_vowels(input_string)\n",
        "print(output)"
      ],
      "metadata": {
        "id": "zurga3DIqmEx",
        "colab": {
          "base_uri": "https://localhost:8080/"
        },
        "outputId": "6ff6a250-4465-4f01-ea3e-858f8d1004f0"
      },
      "execution_count": 12,
      "outputs": [
        {
          "output_type": "stream",
          "name": "stdout",
          "text": [
            "['e', 'o', 'o', 'o', 'a', 'i', 'i', 'o']\n"
          ]
        }
      ]
    },
    {
      "cell_type": "markdown",
      "source": [
        "`Problem-14`: Use reduce to convert a 2D list to 1D"
      ],
      "metadata": {
        "id": "uQrsunZSqoYu"
      }
    },
    {
      "cell_type": "code",
      "source": [
        "# Write code here\n",
        "from functools import reduce\n",
        "import operator\n",
        "\n",
        "def flattened_list(list2D):\n",
        "  list1D = reduce(operator.add, list2D)\n",
        "  return list1D\n",
        "\n",
        "list2D = [[1, 2, 3], [4, 5, 6], [7, 8, 9]]\n",
        "flattened_list(list2D)"
      ],
      "metadata": {
        "id": "E1YUwnfgqnka",
        "colab": {
          "base_uri": "https://localhost:8080/"
        },
        "outputId": "ae040430-d3bd-470e-82b0-6c31df8c6281"
      },
      "execution_count": 14,
      "outputs": [
        {
          "output_type": "execute_result",
          "data": {
            "text/plain": [
              "[1, 2, 3, 4, 5, 6, 7, 8, 9]"
            ]
          },
          "metadata": {},
          "execution_count": 14
        }
      ]
    },
    {
      "cell_type": "markdown",
      "source": [
        "`Problem 15`- A dictionary contains following information about 5 employees:\n",
        "- First name\n",
        "- Last name\n",
        "- Age\n",
        "- Grade(Skilled,Semi-skilled,Highly skilled)<br>\n",
        "Write a program using map/filter/reduce to a list of employees(first name + last name) who are highly skilled"
      ],
      "metadata": {
        "id": "8-DLQEawt-_t"
      }
    },
    {
      "cell_type": "code",
      "source": [
        "# Write code here\n",
        "employees = [\n",
        "    {\n",
        "        'fname':'Nitish',\n",
        "        'lname':'Singh',\n",
        "        'age' : 33,\n",
        "        'grade':'skilled'\n",
        "    },\n",
        "    {\n",
        "        'fname':'Ankit',\n",
        "        'lname':'Verma',\n",
        "        'age' : 34,\n",
        "        'grade':'semi-skilled'\n",
        "    },\n",
        "    {\n",
        "        'fname':'Neha',\n",
        "        'lname':'Singh',\n",
        "        'age' : 35,\n",
        "        'grade':'highly-skilled'\n",
        "    },\n",
        "    {\n",
        "        'fname':'Anurag',\n",
        "        'lname':'Kumar',\n",
        "        'age' : 30,\n",
        "        'grade':'skilled'\n",
        "    },\n",
        "    {\n",
        "        'fname':'Abhinav',\n",
        "        'lname':'Sharma',\n",
        "        'age' : 37,\n",
        "        'grade':'highly-skilled'\n",
        "    }\n",
        "\n",
        "]"
      ],
      "metadata": {
        "id": "OLvptttLs6OU"
      },
      "execution_count": 9,
      "outputs": []
    },
    {
      "cell_type": "code",
      "source": [
        "list(map(lambda x:x['fname'] + ' ' + x['lname'],list(filter(lambda x:True if x['grade'] == 'highly-skilled' else False,employees))))"
      ],
      "metadata": {
        "id": "vLX0FAQkui3y",
        "colab": {
          "base_uri": "https://localhost:8080/"
        },
        "outputId": "481cf1f0-13a4-4a93-b2bc-9c2feac13f79"
      },
      "execution_count": 10,
      "outputs": [
        {
          "output_type": "execute_result",
          "data": {
            "text/plain": [
              "['Neha Singh', 'Abhinav Sharma']"
            ]
          },
          "metadata": {},
          "execution_count": 10
        }
      ]
    },
    {
      "cell_type": "code",
      "source": [],
      "metadata": {
        "id": "ldMjGfkgAMr9"
      },
      "execution_count": null,
      "outputs": []
    }
  ]
}