{
  "nbformat": 4,
  "nbformat_minor": 0,
  "metadata": {
    "colab": {
      "provenance": [],
      "include_colab_link": true
    },
    "kernelspec": {
      "name": "python3",
      "display_name": "Python 3"
    },
    "language_info": {
      "name": "python"
    }
  },
  "cells": [
    {
      "cell_type": "markdown",
      "metadata": {
        "id": "view-in-github",
        "colab_type": "text"
      },
      "source": [
        "<a href=\"https://colab.research.google.com/github/mohammad-mussab/level1/blob/main/session_7_task.ipynb\" target=\"_parent\"><img src=\"https://colab.research.google.com/assets/colab-badge.svg\" alt=\"Open In Colab\"/></a>"
      ]
    },
    {
      "cell_type": "markdown",
      "source": [
        "##`Q-1:` Rectangle Class\n",
        "1. Write a Rectangle class in Python language, allowing you to build a rectangle with length and width attributes.\n",
        "\n",
        "2. Create a Perimeter() method to calculate the perimeter of the rectangle and a Area() method to calculate the area of ​​the rectangle.\n",
        "\n",
        "3. Create a method display() that display the length, width, perimeter and area of an object created using an instantiation on rectangle class."
      ],
      "metadata": {
        "id": "FyUJ3PRAsPr4"
      }
    },
    {
      "cell_type": "markdown",
      "source": [
        "Eg.\n",
        "After making above classes and methods, on executing below code:-\n",
        "```\n",
        "my_rectangle = Rectangle(3 , 4)\n",
        "my_rectangle.display()\n",
        "```\n",
        "\n",
        "`Output:`\n",
        "```\n",
        "The length of rectangle is:  3\n",
        "The width of rectangle is:  4\n",
        "The perimeter of rectangle is:  14\n",
        "The area of rectangle is:  12\n",
        "```\n"
      ],
      "metadata": {
        "id": "GxUtOqJfssFK"
      }
    },
    {
      "cell_type": "code",
      "source": [
        "# write your code here\n",
        "class Rectangle:\n",
        "  def __init__(self, x, y):\n",
        "    self.x = x\n",
        "    self.y = y\n",
        "    self.main()\n",
        "\n",
        "  def perimeter(self):\n",
        "    perimeter = 2 * (self.x + self.y)\n",
        "    return \"The perimeter of rectangle is: {}\".format(perimeter)\n",
        "\n",
        "\n",
        "\n",
        "  def area(self):\n",
        "    area_of_rectangle = self.x * self.y\n",
        "    return \"The area of rectangle is: {}\".format(area_of_rectangle)\n",
        "\n",
        "  def main(self):\n",
        "    print(f\"The length of rectangle is: {self.x}\\nThe width of rectangle is: {self.y}\")\n",
        "    print(self.perimeter())\n",
        "    print(self.area())"
      ],
      "metadata": {
        "id": "92_QT-Uj6NBg"
      },
      "execution_count": null,
      "outputs": []
    },
    {
      "cell_type": "code",
      "source": [
        "my_rectangle = Rectangle(10, 5)\n"
      ],
      "metadata": {
        "colab": {
          "base_uri": "https://localhost:8080/"
        },
        "id": "Y8h4wFWKLITj",
        "outputId": "cc02acf9-cb8e-42e0-f0f0-49e719e1b461"
      },
      "execution_count": null,
      "outputs": [
        {
          "output_type": "stream",
          "name": "stdout",
          "text": [
            "The length of rectangle is: 10\n",
            "The width of rectangle is: 5\n",
            "The perimeter of rectangle is: 30\n",
            "The area of rectangle is: 50\n"
          ]
        }
      ]
    },
    {
      "cell_type": "markdown",
      "source": [
        "##`Q-2: Bank Class`\n",
        "\n",
        "1. Create a Python class called `BankAccount` which represents a bank account, having as attributes: `accountNumber` (numeric type), `name` (name of the account owner as string type), `balance`.\n",
        "2. Create a constructor with parameters: `accountNumber, name, balance`.\n",
        "3. Create a `Deposit()` method which manages the deposit actions.\n",
        "4. Create a `Withdrawal()` method  which manages withdrawals actions.\n",
        "5. Create an `bankFees()` method to apply the bank fees with a percentage of 5% of the balance account.\n",
        "6. Create a `display()` method to display account details.\n",
        "Give the complete code for the  BankAccount class."
      ],
      "metadata": {
        "id": "r_GxrS0Vrdom"
      }
    },
    {
      "cell_type": "markdown",
      "source": [
        "Eg.\n",
        "After making above classes and methods, on executing below code:-\n",
        "```\n",
        "newAccount = BankAccount(2178514584, \"Mandy\" , 2800)\n",
        "\n",
        "newAccount.Withdrawal(700)\n",
        "\n",
        "newAccount.Deposit(1000)\n",
        "\n",
        "newAccount.display()\n",
        "```\n",
        "\n",
        "`Output:`\n",
        "```\n",
        "Account Number :  2178514584\n",
        "Account Name :  Mandy\n",
        "Account Balance :  3100 ₹\n",
        "```"
      ],
      "metadata": {
        "id": "qvVkOUJgvTV_"
      }
    },
    {
      "cell_type": "code",
      "source": [
        "# write your code here\n",
        "class BankAccount:\n",
        "  def __init__(self, account_number: int, name: str, balance: int):\n",
        "    self.account_number = account_number\n",
        "    self.name = name\n",
        "    self.balance = balance\n",
        "    self.pin = ''\n",
        "\n",
        "    self.create_pin()\n",
        "\n",
        "  def create_pin(self):\n",
        "    user_pin = input(\"Enter your new pin\\n\")\n",
        "    self.pin = user_pin\n",
        "\n",
        "\n",
        "  def deposit_money(self):\n",
        "    user_pin = input(\"Enter you pin\\n\")\n",
        "    if user_pin == self.pin :\n",
        "      deposit_amount = int(input(\"Enter the amount of money you want to deposit: \"))\n",
        "      self.balance = self.balance + deposit_amount\n",
        "      print(f\"Your Rs.{deposit_amount} has been deposited to your bank account\")\n",
        "    else:\n",
        "      print(\"Your pin is incorrect\\n\")\n",
        "\n",
        "  def withdraw_money(self):\n",
        "      user_pin = input(\"Enter you pin\\n\")\n",
        "      if user_pin == self.pin :\n",
        "        cash_withdraw = int(input(\"Enter the amout of money you want to withdraw\\n\"))\n",
        "        if cash_withdraw > self.balance:\n",
        "          print(\"You do not have enough money\")\n",
        "        elif cash_withdraw > 0 and cash_withdraw < self.balance:\n",
        "          self.balance = self.balance - cash_withdraw\n",
        "          print(f\"Successful. You withdrew Rs.{cash_withdraw}.\\n\")\n",
        "        else:\n",
        "          print(\"Enter a valid amount\")\n",
        "      else:\n",
        "        print(\"Your pin is incorrect\\n\")\n",
        "\n",
        "  def account_info(self):\n",
        "    print(f\"Account number: {self.account_number}\\nAccount name: {self.name}\\nAccount balance: {self.balance}\\n\")\n",
        "\n",
        "  def menu(self):\n",
        "    while True:\n",
        "      try:\n",
        "        user_input = int(input(\"\"\"Choose the following options\\n1. Create Pin\\n2. Deposit Money\\n3. Withdrawl Money\\n4. Account Information\\n5. Exit the program.\\n\"\"\"))\n",
        "        if user_input == 1 :\n",
        "          self.create_pin()\n",
        "        elif user_input == 2 :\n",
        "          self.deposit_money()\n",
        "        elif user_input == 3:\n",
        "          self.withdraw_money()\n",
        "        elif user_input == 4:\n",
        "          self.account_info()\n",
        "        elif user_input == 5:\n",
        "          print(\"Existing the program.\")\n",
        "          break\n",
        "        else:\n",
        "          print(\"Invalid opiton please try again\")\n",
        "      except ValueError:\n",
        "        print(\"Invalid number. Please enter a number\")"
      ],
      "metadata": {
        "id": "fUQOmQyA6YDR"
      },
      "execution_count": null,
      "outputs": []
    },
    {
      "cell_type": "code",
      "source": [
        "bankacc = BankAccount(29090893, \"Mussab\", 1000)\n",
        "bankacc.menu()"
      ],
      "metadata": {
        "colab": {
          "base_uri": "https://localhost:8080/"
        },
        "id": "ZCoH2y4Ld5HN",
        "outputId": "b3fc3267-71bb-4898-afa3-05fe95348b15"
      },
      "execution_count": null,
      "outputs": [
        {
          "output_type": "stream",
          "name": "stdout",
          "text": [
            "Enter your new pin\n",
            "0909\n",
            "Choose the following options\n",
            "1. Create Pin\n",
            "2. Deposit Money\n",
            "3. Withdrawl Money\n",
            "4. Account Information\n",
            "5. Exit the program.\n",
            "1\n",
            "Enter your new pin\n",
            "9090\n",
            "Choose the following options\n",
            "1. Create Pin\n",
            "2. Deposit Money\n",
            "3. Withdrawl Money\n",
            "4. Account Information\n",
            "5. Exit the program.\n",
            "2\n",
            "Enter you pin\n",
            "9090\n",
            "Enter the amount of money you want to deposit: 9000\n",
            "Your Rs.9000 has been deposited to your bank account\n",
            "Choose the following options\n",
            "1. Create Pin\n",
            "2. Deposit Money\n",
            "3. Withdrawl Money\n",
            "4. Account Information\n",
            "5. Exit the program.\n",
            "3\n",
            "Enter you pin\n",
            "9090\n",
            "Enter the amout of money you want to withdraw\n",
            "1000\n",
            "Successful\n",
            "\n",
            "Choose the following options\n",
            "1. Create Pin\n",
            "2. Deposit Money\n",
            "3. Withdrawl Money\n",
            "4. Account Information\n",
            "5. Exit the program.\n",
            "4\n",
            "Account number: 29090893\n",
            " Account name: Mussab\n",
            " Account balance: 9000\n",
            "\n",
            "Choose the following options\n",
            "1. Create Pin\n",
            "2. Deposit Money\n",
            "3. Withdrawl Money\n",
            "4. Account Information\n",
            "5. Exit the program.\n",
            "5\n",
            "Existing the program.\n"
          ]
        }
      ]
    },
    {
      "cell_type": "markdown",
      "source": [
        "##`Q-3:Computation class`\n",
        "\n",
        "1. Create a `Computation` class with a default constructor (without parameters) allowing to perform various calculations on integers numbers.\n",
        "2. Create a method called `Factorial()` which allows to calculate the factorial of an integer n. Integer n as parameter for this method\n",
        "\n",
        "3. Create a method called `naturalSum()` allowing to calculate the sum of the first n integers 1 + 2 + 3 + .. + n. Integer n as parameter for this method.\n",
        "\n",
        "4. Create a method called `testPrime()` in  the Calculation class to test the primality of a given integer n, n is Prime or Not? Integer n as parameter for this method.\n",
        "\n",
        "5. Create  a method called `testPrims()` allowing to test if two numbers are prime between them. Two integers are prime to one another if they have only `1` as their common divisor. Eg. 4 and 9 are prime to each other.\n",
        "\n",
        "5. Create a `tableMult()` method which creates and displays the multiplication table of a given integer. Then create an `allTablesMult()` method to display all the integer multiplication tables 1, 2, 3, ..., 9.\n",
        "\n",
        "6. Create a static `listDiv()` method that gets all the divisors of a given integer on new list called  Ldiv. Create another `listDivPrim()` method that gets all the prime divisors of a given integer."
      ],
      "metadata": {
        "id": "QovcQAZTrgGU"
      }
    },
    {
      "cell_type": "code",
      "source": [
        "# write your code here\n",
        "class Computation:\n",
        "  def __init__(self):\n",
        "    print(\"Game Started\")\n",
        "    # self.menu()\n",
        "\n",
        "\n",
        "\n",
        "  def factorial(self, n: int):\n",
        "    factorial = 1\n",
        "    for i in range(1, n+1):\n",
        "      factorial = factorial * i\n",
        "    print(factorial)\n",
        "\n",
        "  def naturalSum(self, n: int):\n",
        "    sum = 0\n",
        "    for i in range(1, n+1):\n",
        "      sum += i\n",
        "    print(sum)\n",
        "\n",
        "  def testPrime(self, n: int):\n",
        "    test = []\n",
        "    for i in range(2, n):\n",
        "      if n % i == 0 :\n",
        "        test.append(i)\n",
        "        break\n",
        "    if len(test) >=1 :\n",
        "      print(f\"{n} is not a prime number\")\n",
        "    else:\n",
        "      print(f\"{n} is a prime number\")\n",
        "\n",
        "  def testPrims(self, num1: int, num2: int):\n",
        "    num1lst = []\n",
        "    num2lst = []\n",
        "    for i in range(2,num1):\n",
        "      if num1 % i == 0 :\n",
        "        num1lst.append(i)\n",
        "    for j in range(2, num2):\n",
        "      if num2 % j == 0:\n",
        "        num2lst.append(j)\n",
        "    if len(num1lst) == len(num2lst):\n",
        "      print(\"They are prime to each other.\")\n",
        "    else:\n",
        "      print(\"They are not prime to each other\")\n",
        "\n",
        "  def tableMult(self, n: int):\n",
        "    for i in range(1, 11):\n",
        "      print(f\"{n} x {i} = {n*i}\")\n",
        "\n",
        "  def allTablesMult(self, n: int):\n",
        "    for i in range(1, n+1):\n",
        "      for j in range(1, 11):\n",
        "        print(f\"{i} x {j} = {i*j}\")\n",
        "\n",
        "      print(\"***\"*10)\n",
        "\n",
        "\n",
        "  def listDiv(self, num: int):\n",
        "    divisors = []\n",
        "    for i in range(1, num+1):\n",
        "      if num % i == 0:\n",
        "        divisors.append(i)\n",
        "    print(divisors)\n",
        "  def listDivPrim(self, num:int):\n",
        "    primeDivisors = []\n",
        "    for i in range(1, num+1):\n",
        "      if num % i == 0:\n",
        "        for j in range(2, i):\n",
        "            if j % i == 0:\n",
        "              primeDivisors.append(primeDivisors)\n",
        "\n",
        "      if len(primeDivisors) >=1 :\n",
        "        print(f\"{} is not a prime number\")\n",
        "      else:\n",
        "        print(f\"{n} is a prime number\")"
      ],
      "metadata": {
        "id": "YEkPH70l6Z-o"
      },
      "execution_count": null,
      "outputs": []
    },
    {
      "cell_type": "code",
      "source": [
        "computationObj = Computation()\n",
        "computationObj.testPrime(10)\n",
        "print(\"-----\"*10)\n",
        "computationObj.testPrims(4,9)\n",
        "print(\"-----\"*10)\n",
        "computationObj.tableMult(4)\n",
        "print(\"-----\"*10)\n",
        "# computationObj.allTablesMult(4)\n",
        "print(\"-----\"*10)\n",
        "computationObj.listDiv(3)\n"
      ],
      "metadata": {
        "colab": {
          "base_uri": "https://localhost:8080/"
        },
        "id": "DVUFezSP8Yjx",
        "outputId": "860f87c2-298c-4c15-eaee-a7e479a10b2e"
      },
      "execution_count": null,
      "outputs": [
        {
          "output_type": "stream",
          "name": "stdout",
          "text": [
            "Game Started\n",
            "10 is not a prime number\n",
            "--------------------------------------------------\n",
            "They are prime to each other.\n",
            "--------------------------------------------------\n",
            "4 x 1 = 4\n",
            "4 x 2 = 8\n",
            "4 x 3 = 12\n",
            "4 x 4 = 16\n",
            "4 x 5 = 20\n",
            "4 x 6 = 24\n",
            "4 x 7 = 28\n",
            "4 x 8 = 32\n",
            "4 x 9 = 36\n",
            "4 x 10 = 40\n",
            "--------------------------------------------------\n",
            "--------------------------------------------------\n",
            "[1, 3]\n"
          ]
        }
      ]
    },
    {
      "cell_type": "markdown",
      "source": [
        "##`Q-4`: Build flashcard using class in Python.\n",
        "\n",
        "Build a flashcard using class in python. A flashcard is a card having information on both sides, which can be used as an aid in memoization. Flashcards usually have a question on one side and an answer on the other.\n",
        "\n",
        "**Example 1:**\n",
        "\n",
        "Approach:\n",
        "\n",
        "- Create a class named FlashCard.\n",
        "- Initialize dictionary fruits using __init__() method. Here you have to define fruit name as key and it's color as value. E.g., {\"Banana\": \"yellow\", \"Strawberries\": \"pink\"}\n",
        "- Now randomly choose a pair from fruits by using _random_ module and store the key in variable _fruit_ and _value_ in variable color.\n",
        "- Now prompt the user to answer the color of the randomly chosen fruit.\n",
        "- If correct print correct else print wrong.\n",
        "\n",
        "Output:\n",
        "```bash\n",
        "welcome to fruit quiz\n",
        "What is the color of Strawberries\n",
        "pink\n",
        "Correct answer\n",
        "Enter 0, if you want to play again: 0\n",
        "What is the color of watermelon\n",
        "green\n",
        "Correct answer\n",
        "Enter 0, if you want to play again: 1\n",
        "\n",
        "```\n",
        "\n"
      ],
      "metadata": {
        "id": "0yn23_oEriXa"
      }
    },
    {
      "cell_type": "code",
      "source": [
        "lst = list(\"hello\")\n",
        "print(type(lst))"
      ],
      "metadata": {
        "colab": {
          "base_uri": "https://localhost:8080/"
        },
        "id": "78RVBFBNsgjv",
        "outputId": "c6b04399-7b4f-4c53-85d3-eaf26b5b394d"
      },
      "execution_count": null,
      "outputs": [
        {
          "output_type": "stream",
          "name": "stdout",
          "text": [
            "<class 'list'>\n"
          ]
        }
      ]
    },
    {
      "cell_type": "code",
      "source": [
        "# write your code here\n",
        "import random\n",
        "class FlashCard:\n",
        "  def __init__(self):\n",
        "    self.fruits = {\"Banana\" : \"yellow\",\n",
        "                   \"Strawberries\" : \"red\",\n",
        "                   \"Apple\" : \"red\",\n",
        "                   \"Orange\" : \"orange\",\n",
        "                   \"Mango\" : \"yellow\"}\n",
        "\n",
        "    self.game()\n",
        "\n",
        "  def get_random_fruits(self):\n",
        "    self.fruit, self.color = random.choice(list(self.fruits.items()))\n",
        "\n",
        "\n",
        "  def game(self):\n",
        "\n",
        "        print(\"Welcome to fruit color game\")\n",
        "        self.get_random_fruits()\n",
        "        query = input(f\"What is the color of {self.fruit}\")\n",
        "\n",
        "        if query.lower() == self.color:\n",
        "          print(\"Correct answer\")\n",
        "        else:\n",
        "          print(\"Wrong answer\")\n",
        "        play_again = input((\"Enter 0, if you want to play again: \"))\n",
        "        if play_again == \"0\":\n",
        "          self.game()\n",
        "        else:\n",
        "          print(\"Existing the game\")\n",
        "\n",
        "\n",
        "\n"
      ],
      "metadata": {
        "id": "vCrUF6VU6l6w"
      },
      "execution_count": 5,
      "outputs": []
    },
    {
      "cell_type": "code",
      "source": [
        "color_game = FlashCard()\n",
        "# color_game.display_random_fruit()"
      ],
      "metadata": {
        "colab": {
          "base_uri": "https://localhost:8080/"
        },
        "id": "tcQV1lObC3rM",
        "outputId": "dbb67405-999e-43b3-c34d-0f4b40df0f63"
      },
      "execution_count": 6,
      "outputs": [
        {
          "output_type": "stream",
          "name": "stdout",
          "text": [
            "Welcome to fruit color game\n",
            "What is the color of BananaYellow\n",
            "Correct answer\n",
            "Enter 0, if you want to play again: 0\n",
            "Welcome to fruit color game\n",
            "What is the color of MangoYellow\n",
            "Correct answer\n",
            "Enter 0, if you want to play again: 0\n",
            "Welcome to fruit color game\n",
            "What is the color of AppleRed\n",
            "Correct answer\n",
            "Enter 0, if you want to play again: 0\n",
            "Welcome to fruit color game\n",
            "What is the color of Appleblack\n",
            "Wrong answer\n",
            "Enter 0, if you want to play again: mo\n",
            "Existing the game\n"
          ]
        }
      ]
    },
    {
      "cell_type": "markdown",
      "source": [
        "## `Q-5:` Problem 5 based on OOP Python.\n",
        "\n",
        "TechWorld, a technology training center, wants to allocate courses for instructors. An instructor is identified by name, technology skills, experience and average feedback. An instructor is allocated a course, if he/she satisfies the below two conditions:\n",
        "- eligibility criteria:\n",
        "    - if experience is more than 3 years, average feedback should be 4.5 or more\n",
        "    - if experience is 3 years or less, average feedback should be 4 or more\n",
        "- he/she should posses the technology skill for the course\n",
        "\n",
        "Identify the class name and attributes to represent instructors. Write a Python program to implement the class chosen with its attributes and methods.\n",
        "\n",
        "**Note:**\n",
        "- Consider all instance variables to be private and methods to be public.\n",
        "- An instructor may have multiple technology skills, so consider instance variable, technology_skill to be a list.\n",
        "- *check_eligibility()*: Return true if eligibility criteria is satisfied by the instructor. Else, return false\n",
        "- *allocate_course(technology)*: Return true if the course which requires the given technology can be allocated to the instructor. Else, return false.\n",
        "\n",
        "Represent a few objects of the class, initialize instance variables using setter methods, invoke\n",
        "appropriate methods and test your program."
      ],
      "metadata": {
        "id": "GN2r0jbRewYr"
      }
    },
    {
      "cell_type": "code",
      "source": [
        "# write your code here\n",
        "class CourseAllocation():\n",
        "  def __init__(self, name: str, skills: list, experience: int, feedback: float):\n",
        "    self._name = name\n",
        "    self._skills = skills\n",
        "    self._experience = experience\n",
        "    self._feedback = feedback\n",
        "\n",
        "\n",
        "  def check_eligibility(self) -> True:\n",
        "    if (self._experience > 3 and self._feedback > 4.5) or (self._experience <= 3 and self._feedback >=4):\n",
        "      return True\n",
        "    return False\n",
        "\n",
        "  def allocate_course(self) -> True:\n",
        "    if self.check_eligibility() and \"technology\" in self._skills:\n",
        "      return True\n",
        "    return False\n",
        "\n",
        "\n",
        ""
      ],
      "metadata": {
        "id": "pdMFuVFnlvKL"
      },
      "execution_count": 1,
      "outputs": []
    },
    {
      "cell_type": "code",
      "source": [
        "course_eligible = CourseAllocation(\"Mussab\", [\"Python\", \"technology\", \"make.com\"], 4 , 5)\n",
        "print(course_eligible.check_eligibility())\n",
        "print(course_eligible.allocate_course())"
      ],
      "metadata": {
        "colab": {
          "base_uri": "https://localhost:8080/"
        },
        "id": "spqMklpeCNYX",
        "outputId": "b84aa7be-666d-41b6-8427-0f3020839bfc"
      },
      "execution_count": 7,
      "outputs": [
        {
          "output_type": "stream",
          "name": "stdout",
          "text": [
            "True\n",
            "True\n"
          ]
        }
      ]
    },
    {
      "cell_type": "code",
      "source": [],
      "metadata": {
        "id": "yZ7tLaysCT41"
      },
      "execution_count": null,
      "outputs": []
    }
  ]
}