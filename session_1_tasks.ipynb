{
  "nbformat": 4,
  "nbformat_minor": 0,
  "metadata": {
    "colab": {
      "provenance": [],
      "toc_visible": true
    },
    "kernelspec": {
      "name": "python3",
      "display_name": "Python 3"
    },
    "language_info": {
      "name": "python"
    }
  },
  "cells": [
    {
      "cell_type": "markdown",
      "source": [
        "# Task : Session 1\n",
        "Solve these questions own your own and try to test yourself what you have learned in the session.\n",
        "\n",
        "Happy Learning!"
      ],
      "metadata": {
        "id": "A05OG15VqOPF"
      }
    },
    {
      "cell_type": "markdown",
      "source": [
        "### Q1 :- Print the given strings as per stated format.\n",
        "\n",
        "**Given strings**:\n",
        "```\n",
        "\"Data\" \"Science\" \"Mentorship\" \"Program\"\n",
        "\"By\" \"CampusX\"\n",
        "```\n",
        "**Output**:\n",
        "```\n",
        "Data-Science-Mentorship-Program-started-By-CampusX\n",
        "```\n",
        "\n",
        "Concept- [Seperator and End]"
      ],
      "metadata": {
        "id": "2doIXf8bqe9_"
      }
    },
    {
      "cell_type": "code",
      "source": [
        "# Write your code here\n",
        "# Given strings\n",
        "strings = [\"Data\", \"Science\", \"Mentorship\", \"Program\"\n",
        "\"By\", \"CampusX\"]\n",
        "part1 = \"Data\"\n",
        "part2 = \"Science\"\n",
        "part3 = \"Mentorship\"\n",
        "part4 = \"Program\"\n",
        "part5 = \"By\"\n",
        "part6 = \"CampusX\"\n",
        "\n",
        "print(part1 + \"-\" + part2 + \"-\" + part3 + \"-\" + part4 + \"-\" + part5 + \"-\" + part6)\n",
        "print(\"-\".join(strings))"
      ],
      "metadata": {
        "id": "-em6d3KErDtp"
      },
      "execution_count": null,
      "outputs": []
    },
    {
      "cell_type": "markdown",
      "source": [
        "### Q2:- Write a program that will convert celsius value to fahrenheit."
      ],
      "metadata": {
        "id": "1KUpN7ZTrC3_"
      }
    },
    {
      "cell_type": "code",
      "source": [
        "# Write your code here\n",
        "def celsius_to_farenheit(celsius):\n",
        "  farenheit = (celsius* 9/5) + 32\n",
        "  return farenheit\n",
        "\n",
        "celsius_to_farenheit(30)"
      ],
      "metadata": {
        "id": "yxKYhYQiqWfj"
      },
      "execution_count": null,
      "outputs": []
    },
    {
      "cell_type": "markdown",
      "source": [
        "### Q3:- Take 2 numbers as input from the user.Write a program to swap the numbers without using any special python syntax."
      ],
      "metadata": {
        "id": "RLrOBBJurLB2"
      }
    },
    {
      "cell_type": "code",
      "source": [
        "# Write your code here\n",
        "def swap_two_numbers(num1, num2):\n",
        "   num1 = num1 + num2\n",
        "   num2 = num1 - num2\n",
        "   num1 = num1 - num2\n",
        "   print(\"-----After Swapping-----\")\n",
        "   print(f\"num1 = {num1} \\nnum2 = {num2}\")\n",
        "\n",
        "swap_two_numbers(2,4)"
      ],
      "metadata": {
        "id": "yPn7if0TrJ4F"
      },
      "execution_count": null,
      "outputs": []
    },
    {
      "cell_type": "markdown",
      "source": [
        "### Q4:- Write a program to find the euclidean distance between two coordinates.Take both the coordinates from the user as input."
      ],
      "metadata": {
        "id": "waLCP1bjr7ML"
      }
    },
    {
      "cell_type": "code",
      "source": [
        "# Write your code here\n",
        "import math\n",
        "def euclidean_distance(x1, x2, y1, y2):\n",
        "  euclidean_distance = math.sqrt((x2 - x1) * (x2 - x1) + (y2 - y1) * (y2 - y1))\n",
        "  return euclidean_distance\n",
        "\n",
        "euclidean_distance(2,4,5,6)"
      ],
      "metadata": {
        "id": "Pl1Sv-xnrxnH"
      },
      "execution_count": null,
      "outputs": []
    },
    {
      "cell_type": "markdown",
      "source": [
        "### Q5:- Write a program to find the simple interest when the value of principle,rate of interest and time period is provided by the user.\n"
      ],
      "metadata": {
        "id": "VLrhg-FRsHjR"
      }
    },
    {
      "cell_type": "code",
      "source": [
        "# Write your code here\n",
        "def calculate_simple_interest(principal, rate, time):\n",
        "  if rate > 1:\n",
        "    rate = rate / 100\n",
        "\n",
        "  simple_interest = principal * rate * time\n",
        "  return simple_interest\n",
        "calculate_simple_interest(3,2,1)"
      ],
      "metadata": {
        "id": "s40DlReZsTmY"
      },
      "execution_count": null,
      "outputs": []
    },
    {
      "cell_type": "markdown",
      "source": [
        "### Q6:- Write a program that will tell the number of dogs and chicken are there when the user will provide the value of total heads and legs.\n",
        "\n",
        "For example:\n",
        "Input:\n",
        "heads -> 4\n",
        "legs -> 12\n",
        "<br>\n",
        "Output:\n",
        "dogs -> 2\n",
        "chicken -> 2\n",
        "\n",
        "\n",
        "\n"
      ],
      "metadata": {
        "id": "LMy0BTUktYKa"
      }
    },
    {
      "cell_type": "code",
      "source": [
        "# Write your code here\n",
        "def calculate_dogs_chicken():\n",
        "  while True:\n",
        "    try:\n",
        "      heads = int(input(\"Enter the number of heads: \"))\n",
        "      legs = int(input(\"Enter the number of legs: \"))\n",
        "      if legs % 2 == 0:\n",
        "        break\n",
        "      else:\n",
        "        print(\"The number of legs must be even.\")\n",
        "    except ValueError:\n",
        "      print(\"Invalid input. You must enter an integer.\")\n",
        "\n",
        "  total_dogs = 0\n",
        "  total_chickens = 0\n",
        "\n",
        "  if heads<1 or legs < 2 :\n",
        "    print(\"there is no chicken and dog.\")\n",
        "  else:\n",
        "    while heads>0:\n",
        "      if heads >= 1 and legs >= 4:\n",
        "        heads -= 1\n",
        "        legs -= 4\n",
        "        total_dogs += 1\n",
        "\n",
        "      else:\n",
        "        heads -= 1\n",
        "        legs -= 2\n",
        "        total_chickens += 1\n",
        "\n",
        "  print(f\"Total number of dogs : {total_dogs} \\nTotal number of chickens :{total_chickens}\")\n",
        "  return total_dogs, total_chickens\n",
        "\n",
        "calculate_dogs_chicken()"
      ],
      "metadata": {
        "id": "XSBvJoA4tXaG"
      },
      "execution_count": null,
      "outputs": []
    },
    {
      "cell_type": "markdown",
      "source": [
        "### Q7:- Write a program to find the sum of squares of first n natural numbers where n will be provided by the user."
      ],
      "metadata": {
        "id": "gJ7C5kZYt4BP"
      }
    },
    {
      "cell_type": "code",
      "source": [
        "# Write your code here\n",
        "def squares_sum(n):\n",
        "  sum = 0\n",
        "  for x in range(1,n+1):\n",
        "    sum +=   x*x\n",
        "  return sum\n",
        "\n",
        "squares_sum(3)"
      ],
      "metadata": {
        "id": "_tHsmEHzt2nX"
      },
      "execution_count": null,
      "outputs": []
    },
    {
      "cell_type": "markdown",
      "source": [
        "### Q8:- Given the first 2 terms of an Arithmetic Series.Find the Nth term of the series. Assume all inputs are provided by the user."
      ],
      "metadata": {
        "id": "FHrMM7g-yG1h"
      }
    },
    {
      "cell_type": "code",
      "source": [
        "# Write your code here\n",
        "def nth_term_of_arithmetic_series():\n",
        "    # Get input from the user\n",
        "    a1 = int(input(\"Enter the first term (a1): \"))\n",
        "    a2 = int(input(\"Enter the second term (a2): \"))\n",
        "    N = int(input(\"Enter the term number (N): \"))\n",
        "\n",
        "\n",
        "    d = a2 - a1\n",
        "\n",
        "\n",
        "    aN = a1 + (N - 1) * d\n",
        "\n",
        "    print(f\"The {N}th term of the arithmetic series is: {aN}\")\n",
        "\n",
        "nth_term_of_arithmetic_series()\n",
        "\n"
      ],
      "metadata": {
        "id": "go4_kmZmyVSx"
      },
      "execution_count": null,
      "outputs": []
    },
    {
      "cell_type": "markdown",
      "source": [
        "### Q9:- Given 2 fractions, find the sum of those 2 fractions.Take the numerator and denominator values of the fractions from the user."
      ],
      "metadata": {
        "id": "QgyRX_es1oum"
      }
    },
    {
      "cell_type": "code",
      "source": [
        "# Write your code here\n",
        "import math\n",
        "\n",
        "def find_fraction_sum():\n",
        "    try:\n",
        "        a1 = int(input(\"Enter the numerator of the first fraction: \"))\n",
        "        d1 = int(input(\"Enter the denominator of the first fraction: \"))\n",
        "\n",
        "        a2 = int(input(\"Enter the numerator of the second fraction: \"))\n",
        "        d2 = int(input(\"Enter the denominator of the second fraction: \"))\n",
        "\n",
        "        numerator = a1 * d2 + a2 * d1\n",
        "        denominator = d1 * d2\n",
        "\n",
        "        gcd = math.gcd(numerator, denominator)\n",
        "        simplified_numerator = numerator // gcd\n",
        "        simplified_denominator = denominator // gcd\n",
        "\n",
        "\n",
        "        print(f\"The sum of the fractions is: {simplified_numerator}/{simplified_denominator}\")\n",
        "    except ValueError:\n",
        "        print(\"Invalid input. Please enter integer values.\")\n",
        "    except ZeroDivisionError:\n",
        "        print(\"Denominator cannot be zero.\")\n",
        "\n",
        "find_fraction_sum()\n"
      ],
      "metadata": {
        "id": "X05xqFS1yW16"
      },
      "execution_count": null,
      "outputs": []
    },
    {
      "cell_type": "markdown",
      "source": [
        "### Q10:- Given the height, width and breadth of a milk tank, you have to find out how many glasses of milk can be obtained? Assume all the inputs are provided by the user.\n",
        "\n",
        "\n",
        "\n",
        "Input:<br>\n",
        "Dimensions of the milk tank<br>\n",
        "H = 20cm, L = 20cm, B = 20cm\n",
        "<br><br>\n",
        "Dimensions of the glass<br>\n",
        "h = 3cm, r = 1cm"
      ],
      "metadata": {
        "id": "eaql38ln13u7"
      }
    },
    {
      "cell_type": "code",
      "source": [
        "# Write your code here\n",
        "import math\n",
        "\n",
        "def calculate_glasses():\n",
        "    try:\n",
        "        # Dimensions of the milk tank\n",
        "        H = float(input(\"Enter the height of the milk tank (in cm): \"))\n",
        "        L = float(input(\"Enter the length of the milk tank (in cm): \"))\n",
        "        B = float(input(\"Enter the breadth of the milk tank (in cm): \"))\n",
        "\n",
        "        # Dimensions of the glass\n",
        "        h = float(input(\"Enter the height of the glass (in cm): \"))\n",
        "        r = float(input(\"Enter the radius of the glass (in cm): \"))\n",
        "\n",
        "        # Volume of the milk tank\n",
        "        volume_tank = H * L * B\n",
        "\n",
        "        # Volume of one glass\n",
        "        volume_glass = math.pi * r**2 * h\n",
        "\n",
        "        # Number of glasses\n",
        "        number_of_glasses = volume_tank // volume_glass\n",
        "\n",
        "        # Print the result\n",
        "        print(f\"The number of glasses of milk that can be obtained: {int(number_of_glasses)}\")\n",
        "    except ValueError:\n",
        "        print(\"Invalid input. Please enter numeric values.\")\n",
        "\n",
        "calculate_glasses()\n"
      ],
      "metadata": {
        "id": "FePZqno74eWv"
      },
      "execution_count": null,
      "outputs": []
    }
  ]
}