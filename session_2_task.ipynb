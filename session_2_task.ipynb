{
  "nbformat": 4,
  "nbformat_minor": 0,
  "metadata": {
    "colab": {
      "provenance": [],
      "include_colab_link": true
    },
    "kernelspec": {
      "name": "python3",
      "display_name": "Python 3"
    },
    "language_info": {
      "name": "python"
    }
  },
  "cells": [
    {
      "cell_type": "markdown",
      "metadata": {
        "id": "view-in-github",
        "colab_type": "text"
      },
      "source": [
        "<a href=\"https://colab.research.google.com/github/mohammad-mussab/level1/blob/main/session_2_task.ipynb\" target=\"_parent\"><img src=\"https://colab.research.google.com/assets/colab-badge.svg\" alt=\"Open In Colab\"/></a>"
      ]
    },
    {
      "cell_type": "markdown",
      "source": [
        "### `Problem 1`: Write a program that will give you in hand monthly salary after deduction on CTC - HRA(10%), DA(5%), PF(3%) and taxes deduction as below:\n",
        "\n",
        "> Salary(Lakhs) : Tax(%)\n",
        "\n",
        "*   Below 5 : 0%\n",
        "*   5-10 : 10%\n",
        "*   10-20 : 20%\n",
        "*   aboove 20 : 30%"
      ],
      "metadata": {
        "id": "w6RlOAXV2PWh"
      }
    },
    {
      "cell_type": "code",
      "source": [
        "# Write code here\n",
        "def salary_calcultor():\n",
        "  salary = float(input(\"Enter you salary in lakhs.\"))\n",
        "  CTC_HRA =  0.1 * salary\n",
        "  DA = 0.05 * salary\n",
        "  PF = 0.03 * salary\n",
        "\n",
        "  if salary <= 0:\n",
        "    print(\"The value of salary must be a positive integer.\")\n",
        "    return\n",
        "  elif salary <= 5:\n",
        "    monthly_income = salary - (CTC_HRA + DA + PF)\n",
        "    print(f\"Your monthly salary is {monthly_income} lakhs.\")\n",
        "  elif salary >= 5 and salary <= 10:\n",
        "    monthly_income =  salary - ((salary*0.1) + (CTC_HRA + DA + PF))\n",
        "    print(f\"Your monthly salary is {monthly_income} lakhs.\")\n",
        "  elif salary <= 10 and salary <= 20:\n",
        "    monthly_income =  salary - ((salary*0.2) + (CTC_HRA + DA + PF))\n",
        "    print(f\"Your monthly salary is {monthly_income} lakhs.\")\n",
        "  else:\n",
        "    monthly_income =  salary - ((salary*0.3) + (CTC_HRA + DA + PF))\n",
        "    print(f\"Your monthly salary is {monthly_income} lakhs.\")\n",
        "\n",
        "\n",
        "\n",
        "salary_calcultor()"
      ],
      "metadata": {
        "id": "7tMHvKYO2etI",
        "colab": {
          "base_uri": "https://localhost:8080/"
        },
        "outputId": "855b69d3-fc62-4d9f-ef3f-652e5d4d50e2"
      },
      "execution_count": null,
      "outputs": [
        {
          "output_type": "stream",
          "name": "stdout",
          "text": [
            "Enter you salary in lakhs.20\n",
            "Your monthly salary is 10.4 lakhs.\n"
          ]
        }
      ]
    },
    {
      "cell_type": "markdown",
      "source": [
        "### `Problem 2`: Write a program that take a user input of three angles and will find out whether it can form a triangle or not."
      ],
      "metadata": {
        "id": "tYzCGqwl2hfN"
      }
    },
    {
      "cell_type": "code",
      "source": [
        "# Write code here\n",
        "def triangles_angles():\n",
        "  angle1 = float(input(\"Enter your first angle.\"))\n",
        "  angle2 = float(input(\"Enter your second angle.\"))\n",
        "  angle3 = float(input(\"Enter your third angle.\"))\n",
        "  sum_angles = angle1 + angle2 + angle3\n",
        "  if sum_angles == 180:\n",
        "    if angle1 == angle2 == angle3 :\n",
        "      print(\"These angles can form triangle. (Equilateral Triangle)\")\n",
        "    elif angle1 < 90 and angle2 <90  and angle3 < 90:\n",
        "      print(\"These angles can form traingle. (Acute Triangle)\")\n",
        "    elif angle1 == 90 or angle2 == 90 or angle3 == 90:\n",
        "      print(\"These angles can form triangle. (Right Triangle) \")\n",
        "    elif angle1 > 90 or angle2 > 90 or angle3 > 90:\n",
        "      print(\"These angles can form traingle. (Obtuse Triangle)\")\n",
        "  else:\n",
        "      print(\"These angles can not form traingle.\")\n",
        "\n",
        "triangles_angles()\n"
      ],
      "metadata": {
        "id": "FYEqln-I2kxV",
        "colab": {
          "base_uri": "https://localhost:8080/"
        },
        "outputId": "a753f06b-bd9c-48d1-e1ee-8436b1429e86"
      },
      "execution_count": null,
      "outputs": [
        {
          "output_type": "stream",
          "name": "stdout",
          "text": [
            "Enter your first angle.80\n",
            "Enter your second angle.20\n",
            "Enter your third angle.80\n",
            "These angles can form traingle. (Acute Triangle)\n"
          ]
        }
      ]
    },
    {
      "cell_type": "markdown",
      "source": [
        "### `Problem 3`: Write a program that will take user input of cost price and selling price and determines whether its a loss or a profit."
      ],
      "metadata": {
        "id": "5vEpPh8C2pE4"
      }
    },
    {
      "cell_type": "code",
      "source": [
        "# Write code here\n",
        "def profit_loss():\n",
        "  cost = float(input(\"Enter your cost price.\"))\n",
        "  selling = float(input(\"Enter your selling price.\"))\n",
        "  profit_loss = selling - cost\n",
        "  if profit_loss > 0 :\n",
        "    print(f\"You are getting profit of Rs. {profit_loss}\")\n",
        "  else:\n",
        "    print(f\"Your are gettign loss of Rs. {abs(profit_loss)}\")\n",
        "\n",
        "profit_loss()"
      ],
      "metadata": {
        "id": "jDwBXlkO2sfl",
        "colab": {
          "base_uri": "https://localhost:8080/"
        },
        "outputId": "33834405-48fe-4b6c-e53f-e1987a180123"
      },
      "execution_count": null,
      "outputs": [
        {
          "output_type": "stream",
          "name": "stdout",
          "text": [
            "Enter your cost price.200\n",
            "Enter your selling price.110\n",
            "Your are gettign loss of Rs. 90.0\n"
          ]
        }
      ]
    },
    {
      "cell_type": "markdown",
      "source": [
        "### `Problem 4`: Write a menu-driven program -\n",
        "1. cm to ft\n",
        "2. km to miles\n",
        "3. USD to INR\n",
        "4. exit"
      ],
      "metadata": {
        "id": "J_FG_cJW2ugT"
      }
    },
    {
      "cell_type": "code",
      "source": [
        "# Write code here\n",
        "def cm_to_ft():\n",
        "  x = float(input(\"Enter your number in cm.\"))\n",
        "  y = x * 0.0328\n",
        "  print(f\"{x}cm is equal to {round(y,2)}\")\n",
        "  return y\n",
        "\n",
        "def km_to_miles():\n",
        "  x = float(input(\"Enter your number in Km.\"))\n",
        "  y = x * 0.621371\n",
        "  print(f\"{x}km is equal to {round(y,2)}miles\")\n",
        "  return y\n",
        "\n",
        "def usd_to_inr():\n",
        "  x = float(input(\"Enter your amount in USD.\"))\n",
        "  y = x * 83.46\n",
        "  print(f\"{x}USD is equal to {round(y,2)}INR\")\n",
        "  return y\n",
        "\n",
        "def main():\n",
        "  user_input = input(\"Conversion: \\ncm to feet \\nkm to miles \\nUSD to INR \\n\")\n",
        "  user_input = user_input.lower()\n",
        "  if (user_input == \"cm to feet\"):\n",
        "    cm_to_ft()\n",
        "  elif (user_input == \"km to miles\") :\n",
        "    km_to_miles()\n",
        "  elif (user_input == \"usd to inr\") :\n",
        "    usd_to_inr()\n",
        "  else:\n",
        "    print(\"Be sure you must have enter correct spelling. \\n1. Km to Miles \\n2. Cm to Ft \\n3. USD to INR.\")\n",
        "\n",
        "main()"
      ],
      "metadata": {
        "id": "yBHhaCGQ2zpD",
        "colab": {
          "base_uri": "https://localhost:8080/"
        },
        "outputId": "e6d7e9fd-a0b6-4cba-8758-fdebbb6ff19b"
      },
      "execution_count": null,
      "outputs": [
        {
          "output_type": "stream",
          "name": "stdout",
          "text": [
            "Conversion: \n",
            "cm to feet \n",
            "km to miles \n",
            "USD to INR \n",
            "usd to inr\n",
            "Enter your amount in USD.30\n",
            "30.0USD is equal to 2503.8INR\n"
          ]
        }
      ]
    },
    {
      "cell_type": "markdown",
      "source": [
        "### `Problem 5` - Exercise 12: Display Fibonacci series up to 10 terms.\n",
        "\n",
        "*Note: The Fibonacci Sequence is a series of numbers. The next number is found by adding up the two numbers before it. The first two numbers are 0 and 1. For example, 0, 1, 1, 2, 3, 5, 8, 13, 21. The next number in this series above is 13+21 = 34*"
      ],
      "metadata": {
        "id": "LJJ30_Yw27ZU"
      }
    },
    {
      "cell_type": "code",
      "source": [
        "# Write code here\n",
        "def fibonacci_series():\n",
        "  n1 , n2 = 0 , 1\n",
        "  count_tracker = 0\n",
        "  n_terms = int(input(\"Enter the integer.\"))\n",
        "\n",
        "  if n_terms <= 0:\n",
        "    print(\"It must be a positive integer.\")\n",
        "\n",
        "  print(f\"Fibonacc series from 0 to {n_terms}.\")\n",
        "\n",
        "  while  count_tracker < n_terms:\n",
        "    print(n1 , end= '\\n')\n",
        "    nth = n1 + n2\n",
        "    n1 = n2\n",
        "    n2 = nth\n",
        "    count_tracker += 1\n",
        "\n",
        "fibonacci_series()\n",
        "\n",
        "\n",
        "def fabonacci_iterative(n):\n",
        "  PrevNum = 0\n",
        "  CurrentNum = 1\n",
        "  if n<= 0 :\n",
        "    print(\"It must be a positive integer.\")\n",
        "  for i in range(1,n):\n",
        "    print(PrevNum, end=\" \")\n",
        "    PrevPrevNum  = PrevNum\n",
        "    PrevNum = CurrentNum\n",
        "    CurrentNum = PrevNum + PrevPrevNum\n",
        "\n",
        "fabonacci_iterative(10)"
      ],
      "metadata": {
        "id": "ae_1rpe52-5R",
        "colab": {
          "base_uri": "https://localhost:8080/"
        },
        "outputId": "0e7600d7-0993-4590-91e0-838648c9db6d"
      },
      "execution_count": null,
      "outputs": [
        {
          "output_type": "stream",
          "name": "stdout",
          "text": [
            "0 1 1 2 3 5 8 13 21 "
          ]
        }
      ]
    },
    {
      "cell_type": "markdown",
      "source": [
        "b ### `Problem 6` - Find the factorial of a given number.\n",
        "\n",
        "Write a program to use the loop to find the factorial of a given number.\n",
        "\n",
        "The factorial (symbol: `!`) means to multiply all whole numbers from the chosen number down to 1.\n",
        "\n",
        "For example: calculate the factorial of 5\n",
        "\n",
        "```bash\n",
        "5! = 5 × 4 × 3 × 2 × 1 = 120\n",
        "```\n",
        "\n",
        "Output:\n",
        "\n",
        "```bash\n",
        "120\n",
        "```"
      ],
      "metadata": {
        "id": "pk_I_S4m3PT5"
      }
    },
    {
      "cell_type": "code",
      "source": [
        "# Write code here\n",
        "def factorial(n):\n",
        "  x = 1\n",
        "  for i in range(n,0,-1):\n",
        "\n",
        "    factorial = i * x\n",
        "    x = factorial\n",
        "\n",
        "\n",
        "\n",
        "\n",
        "  print(x)\n",
        "\n",
        "\n",
        "factorial(5)"
      ],
      "metadata": {
        "id": "lzXxHegx3Rkc",
        "colab": {
          "base_uri": "https://localhost:8080/"
        },
        "outputId": "1070c3b0-c17f-4f1c-86e0-03aa9f0d9e96"
      },
      "execution_count": 22,
      "outputs": [
        {
          "output_type": "stream",
          "name": "stdout",
          "text": [
            "120\n"
          ]
        }
      ]
    },
    {
      "cell_type": "markdown",
      "source": [
        "### `Problem 7` - Reverse a given integer number.\n",
        "\n",
        "Example:\n",
        "\n",
        "`Input:`\n",
        "\n",
        "```bash\n",
        "76542\n",
        "```\n",
        "\n",
        "`Output:`\n",
        "\n",
        "```bash\n",
        "24567\n",
        "```"
      ],
      "metadata": {
        "id": "-17IOi-g3UpU"
      }
    },
    {
      "cell_type": "code",
      "source": [
        "# Write code here\n",
        "num = int(input(\"Enter your number.\"))\n",
        "num = str(num)\n",
        "for i in reversed(num):\n",
        "  print(i,end='')\n",
        "\n",
        ""
      ],
      "metadata": {
        "id": "wJwLpKCr3aVA",
        "colab": {
          "base_uri": "https://localhost:8080/"
        },
        "outputId": "90a68263-cbbd-4dd4-c51a-4b1d31839a65"
      },
      "execution_count": 28,
      "outputs": [
        {
          "output_type": "stream",
          "name": "stdout",
          "text": [
            "Enter your number.453895\n",
            "598354"
          ]
        }
      ]
    },
    {
      "cell_type": "markdown",
      "source": [
        "### `Problem 8`: Take a user input as integer N. Find out the sum from 1 to N. If any number if divisible by 5, then skip that number. And if the sum is greater than 300, don't need to calculate the sum further more. Print the final result. And don't use for loop to solve this problem.\n",
        "\n",
        "**Example 1:**\n",
        "\n",
        "`Input:`\n",
        "\n",
        "```bash\n",
        "30\n",
        "```\n",
        "\n",
        "`Output:`\n",
        "\n",
        "```bash\n",
        "276\n",
        "```"
      ],
      "metadata": {
        "id": "-t8PJQaY3sHf"
      }
    },
    {
      "cell_type": "code",
      "source": [
        "# Write code here\n",
        "N = int(input(\"Enter you integer.\"))\n",
        "sum = 0\n",
        "i = 1\n",
        "while i <= N:\n",
        "  if i % 5 == 0:\n",
        "    i += 1\n",
        "    continue\n",
        "\n",
        "  sum += i\n",
        "  if sum>300:\n",
        "    break\n",
        "\n",
        "  i += 1\n",
        "print(sum)"
      ],
      "metadata": {
        "id": "GZB6mGMP3ujT",
        "colab": {
          "base_uri": "https://localhost:8080/"
        },
        "outputId": "44c908e8-0536-4a3d-8fb0-2314f22c1627"
      },
      "execution_count": 45,
      "outputs": [
        {
          "output_type": "stream",
          "name": "stdout",
          "text": [
            "Enter you integer.30\n",
            "303\n"
          ]
        }
      ]
    },
    {
      "cell_type": "markdown",
      "source": [
        "### `Problem 9`: Write a program that keeps on accepting a number from the user until the user enters Zero. Display the sum and average of all the numbers."
      ],
      "metadata": {
        "id": "Q7ggImeA3xm4"
      }
    },
    {
      "cell_type": "code",
      "source": [
        "# Write code here\n",
        "sum = 0\n",
        "count = 0\n",
        "# user_input = int(input(\"Enter your number.\"))\n",
        "while True:\n",
        "  try:\n",
        "    user_input = int(input(\"Enter your number :\"))\n",
        "    if user_input == 0:\n",
        "      break\n",
        "    else:\n",
        "      sum += user_input\n",
        "      count += 1\n",
        "  except ValueError:\n",
        "    print(\"Enter an integer.\")\n",
        "print(f\"The average of total {count} numbers is {sum/count}.\")"
      ],
      "metadata": {
        "id": "t_YDSZDe4Kdo",
        "colab": {
          "base_uri": "https://localhost:8080/"
        },
        "outputId": "087f86d0-6a7e-407f-a677-2c9e4ec3a5bf"
      },
      "execution_count": 60,
      "outputs": [
        {
          "output_type": "stream",
          "name": "stdout",
          "text": [
            "Enter your number :cvb\n",
            "Enter an integer\n",
            "Enter your number :3\n",
            "Enter your number :423\n",
            "Enter your number :5\n",
            "Enter your number :\n",
            "Enter an integer\n",
            "Enter your number :4\n",
            "Enter your number :41\n",
            "Enter your number :0\n",
            "The average of total 5 numbers is 95.2.\n"
          ]
        }
      ]
    },
    {
      "cell_type": "markdown",
      "source": [
        "###`Problem 9`: Write a program which will find all such numbers which are divisible by 7 but are not a multiple of 5, between 2000 and 3200 (both included). The numbers obtained should be printed in a comma-separated sequence on a single line."
      ],
      "metadata": {
        "id": "6EhvEMvm4R7s"
      }
    },
    {
      "cell_type": "code",
      "source": [
        "# Write code here\n",
        "result = []\n",
        "for i in range(2000, 3201):\n",
        "  if i % 7 == 0 and i % 5 !=0:\n",
        "    result.append(str(i))\n",
        "print(\",\".join(result))"
      ],
      "metadata": {
        "id": "d6RgP1B34T6c",
        "colab": {
          "base_uri": "https://localhost:8080/"
        },
        "outputId": "d007e536-dbc7-488c-bd2d-25cbf5c84aca"
      },
      "execution_count": 55,
      "outputs": [
        {
          "output_type": "stream",
          "name": "stdout",
          "text": [
            "2002,2009,2016,2023,2037,2044,2051,2058,2072,2079,2086,2093,2107,2114,2121,2128,2142,2149,2156,2163,2177,2184,2191,2198,2212,2219,2226,2233,2247,2254,2261,2268,2282,2289,2296,2303,2317,2324,2331,2338,2352,2359,2366,2373,2387,2394,2401,2408,2422,2429,2436,2443,2457,2464,2471,2478,2492,2499,2506,2513,2527,2534,2541,2548,2562,2569,2576,2583,2597,2604,2611,2618,2632,2639,2646,2653,2667,2674,2681,2688,2702,2709,2716,2723,2737,2744,2751,2758,2772,2779,2786,2793,2807,2814,2821,2828,2842,2849,2856,2863,2877,2884,2891,2898,2912,2919,2926,2933,2947,2954,2961,2968,2982,2989,2996,3003,3017,3024,3031,3038,3052,3059,3066,3073,3087,3094,3101,3108,3122,3129,3136,3143,3157,3164,3171,3178,3192,3199\n"
          ]
        }
      ]
    },
    {
      "cell_type": "markdown",
      "source": [
        "###`Problem 10`: Write a program, which will find all such numbers between 1000 and 3000 (both included) such that each digit of the number is an even number. The numbers obtained should be printed in a space-separated sequence on a single line.\n",
        "\n"
      ],
      "metadata": {
        "id": "tYvmRR-G4Vp4"
      }
    },
    {
      "cell_type": "code",
      "source": [
        "# Write code here\n",
        "for i in range(1000,3001):\n",
        "  if i % 2 == 0 :\n",
        "    print(i, end = \" \")"
      ],
      "metadata": {
        "id": "k6Gs1kIf4k19",
        "colab": {
          "base_uri": "https://localhost:8080/"
        },
        "outputId": "312aa7d2-965b-4e72-a7e5-8baf4654a8bb"
      },
      "execution_count": 48,
      "outputs": [
        {
          "output_type": "stream",
          "name": "stdout",
          "text": [
            "1000 1002 1004 1006 1008 1010 1012 1014 1016 1018 1020 1022 1024 1026 1028 1030 1032 1034 1036 1038 1040 1042 1044 1046 1048 1050 1052 1054 1056 1058 1060 1062 1064 1066 1068 1070 1072 1074 1076 1078 1080 1082 1084 1086 1088 1090 1092 1094 1096 1098 1100 1102 1104 1106 1108 1110 1112 1114 1116 1118 1120 1122 1124 1126 1128 1130 1132 1134 1136 1138 1140 1142 1144 1146 1148 1150 1152 1154 1156 1158 1160 1162 1164 1166 1168 1170 1172 1174 1176 1178 1180 1182 1184 1186 1188 1190 1192 1194 1196 1198 1200 1202 1204 1206 1208 1210 1212 1214 1216 1218 1220 1222 1224 1226 1228 1230 1232 1234 1236 1238 1240 1242 1244 1246 1248 1250 1252 1254 1256 1258 1260 1262 1264 1266 1268 1270 1272 1274 1276 1278 1280 1282 1284 1286 1288 1290 1292 1294 1296 1298 1300 1302 1304 1306 1308 1310 1312 1314 1316 1318 1320 1322 1324 1326 1328 1330 1332 1334 1336 1338 1340 1342 1344 1346 1348 1350 1352 1354 1356 1358 1360 1362 1364 1366 1368 1370 1372 1374 1376 1378 1380 1382 1384 1386 1388 1390 1392 1394 1396 1398 1400 1402 1404 1406 1408 1410 1412 1414 1416 1418 1420 1422 1424 1426 1428 1430 1432 1434 1436 1438 1440 1442 1444 1446 1448 1450 1452 1454 1456 1458 1460 1462 1464 1466 1468 1470 1472 1474 1476 1478 1480 1482 1484 1486 1488 1490 1492 1494 1496 1498 1500 1502 1504 1506 1508 1510 1512 1514 1516 1518 1520 1522 1524 1526 1528 1530 1532 1534 1536 1538 1540 1542 1544 1546 1548 1550 1552 1554 1556 1558 1560 1562 1564 1566 1568 1570 1572 1574 1576 1578 1580 1582 1584 1586 1588 1590 1592 1594 1596 1598 1600 1602 1604 1606 1608 1610 1612 1614 1616 1618 1620 1622 1624 1626 1628 1630 1632 1634 1636 1638 1640 1642 1644 1646 1648 1650 1652 1654 1656 1658 1660 1662 1664 1666 1668 1670 1672 1674 1676 1678 1680 1682 1684 1686 1688 1690 1692 1694 1696 1698 1700 1702 1704 1706 1708 1710 1712 1714 1716 1718 1720 1722 1724 1726 1728 1730 1732 1734 1736 1738 1740 1742 1744 1746 1748 1750 1752 1754 1756 1758 1760 1762 1764 1766 1768 1770 1772 1774 1776 1778 1780 1782 1784 1786 1788 1790 1792 1794 1796 1798 1800 1802 1804 1806 1808 1810 1812 1814 1816 1818 1820 1822 1824 1826 1828 1830 1832 1834 1836 1838 1840 1842 1844 1846 1848 1850 1852 1854 1856 1858 1860 1862 1864 1866 1868 1870 1872 1874 1876 1878 1880 1882 1884 1886 1888 1890 1892 1894 1896 1898 1900 1902 1904 1906 1908 1910 1912 1914 1916 1918 1920 1922 1924 1926 1928 1930 1932 1934 1936 1938 1940 1942 1944 1946 1948 1950 1952 1954 1956 1958 1960 1962 1964 1966 1968 1970 1972 1974 1976 1978 1980 1982 1984 1986 1988 1990 1992 1994 1996 1998 2000 2002 2004 2006 2008 2010 2012 2014 2016 2018 2020 2022 2024 2026 2028 2030 2032 2034 2036 2038 2040 2042 2044 2046 2048 2050 2052 2054 2056 2058 2060 2062 2064 2066 2068 2070 2072 2074 2076 2078 2080 2082 2084 2086 2088 2090 2092 2094 2096 2098 2100 2102 2104 2106 2108 2110 2112 2114 2116 2118 2120 2122 2124 2126 2128 2130 2132 2134 2136 2138 2140 2142 2144 2146 2148 2150 2152 2154 2156 2158 2160 2162 2164 2166 2168 2170 2172 2174 2176 2178 2180 2182 2184 2186 2188 2190 2192 2194 2196 2198 2200 2202 2204 2206 2208 2210 2212 2214 2216 2218 2220 2222 2224 2226 2228 2230 2232 2234 2236 2238 2240 2242 2244 2246 2248 2250 2252 2254 2256 2258 2260 2262 2264 2266 2268 2270 2272 2274 2276 2278 2280 2282 2284 2286 2288 2290 2292 2294 2296 2298 2300 2302 2304 2306 2308 2310 2312 2314 2316 2318 2320 2322 2324 2326 2328 2330 2332 2334 2336 2338 2340 2342 2344 2346 2348 2350 2352 2354 2356 2358 2360 2362 2364 2366 2368 2370 2372 2374 2376 2378 2380 2382 2384 2386 2388 2390 2392 2394 2396 2398 2400 2402 2404 2406 2408 2410 2412 2414 2416 2418 2420 2422 2424 2426 2428 2430 2432 2434 2436 2438 2440 2442 2444 2446 2448 2450 2452 2454 2456 2458 2460 2462 2464 2466 2468 2470 2472 2474 2476 2478 2480 2482 2484 2486 2488 2490 2492 2494 2496 2498 2500 2502 2504 2506 2508 2510 2512 2514 2516 2518 2520 2522 2524 2526 2528 2530 2532 2534 2536 2538 2540 2542 2544 2546 2548 2550 2552 2554 2556 2558 2560 2562 2564 2566 2568 2570 2572 2574 2576 2578 2580 2582 2584 2586 2588 2590 2592 2594 2596 2598 2600 2602 2604 2606 2608 2610 2612 2614 2616 2618 2620 2622 2624 2626 2628 2630 2632 2634 2636 2638 2640 2642 2644 2646 2648 2650 2652 2654 2656 2658 2660 2662 2664 2666 2668 2670 2672 2674 2676 2678 2680 2682 2684 2686 2688 2690 2692 2694 2696 2698 2700 2702 2704 2706 2708 2710 2712 2714 2716 2718 2720 2722 2724 2726 2728 2730 2732 2734 2736 2738 2740 2742 2744 2746 2748 2750 2752 2754 2756 2758 2760 2762 2764 2766 2768 2770 2772 2774 2776 2778 2780 2782 2784 2786 2788 2790 2792 2794 2796 2798 2800 2802 2804 2806 2808 2810 2812 2814 2816 2818 2820 2822 2824 2826 2828 2830 2832 2834 2836 2838 2840 2842 2844 2846 2848 2850 2852 2854 2856 2858 2860 2862 2864 2866 2868 2870 2872 2874 2876 2878 2880 2882 2884 2886 2888 2890 2892 2894 2896 2898 2900 2902 2904 2906 2908 2910 2912 2914 2916 2918 2920 2922 2924 2926 2928 2930 2932 2934 2936 2938 2940 2942 2944 2946 2948 2950 2952 2954 2956 2958 2960 2962 2964 2966 2968 2970 2972 2974 2976 2978 2980 2982 2984 2986 2988 2990 2992 2994 2996 2998 3000 "
          ]
        }
      ]
    },
    {
      "cell_type": "markdown",
      "source": [
        "###`Problem 11`: A robot moves in a plane starting from the original point (0,0). The robot can move toward UP, DOWN, LEFT and RIGHT with a given steps.\n",
        "The trace of robot movement is shown as the following:\n",
        "```\n",
        "UP 5\n",
        "DOWN 3\n",
        "LEFT 3\n",
        "RIGHT 2\n",
        "!\n",
        "```\n",
        "> The numbers after the direction are steps.\n",
        "\n",
        "> `!` means robot stop there.\n",
        "\n",
        "**Please write a program to compute the distance from current position after a sequence of movement and original point.**\n",
        "\n",
        "*If the distance is a float, then just print the nearest integer.*\n",
        "\n",
        "Example:\n",
        "\n",
        "`Input`:\n",
        "```\n",
        "UP 5\n",
        "DOWN 3\n",
        "LEFT 3\n",
        "RIGHT 2\n",
        "!\n",
        "```\n",
        "`Output`:\n",
        "```\n",
        "2\n",
        "```"
      ],
      "metadata": {
        "id": "GV18IINT4mf5"
      }
    },
    {
      "cell_type": "code",
      "source": [
        "# Write code here\n",
        "import math\n",
        "up = int(input(\"UP :\"))\n",
        "down = int(input(\"DOWN :\"))\n",
        "left = int(input(\"LEFT :\"))\n",
        "right = int(input(\"RIGHT :\"))\n",
        "\n",
        "vertical = up - down\n",
        "horizontal = right - left\n",
        "distance = math.sqrt((vertical * vertical) + (horizontal * horizontal))\n",
        "print(round(distance))"
      ],
      "metadata": {
        "id": "6UNMC2aR4w5x",
        "colab": {
          "base_uri": "https://localhost:8080/"
        },
        "outputId": "43db4e4b-5748-4aba-b6b9-c6b03ddfa8fd"
      },
      "execution_count": 50,
      "outputs": [
        {
          "output_type": "stream",
          "name": "stdout",
          "text": [
            "UP :3\n",
            "DOWN :5\n",
            "LEFT :6\n",
            "RIGHT :10\n",
            "4\n"
          ]
        }
      ]
    },
    {
      "cell_type": "markdown",
      "source": [
        "###`Problem 12`:Write a program to print whether a given number is a prime number or not"
      ],
      "metadata": {
        "id": "3fsAIAhK5GYY"
      }
    },
    {
      "cell_type": "code",
      "source": [
        "# Write code here\n",
        "def is_prime():\n",
        "  n = int(input(\"Enter your number. \"))\n",
        "  if n <= 1:\n",
        "    return False\n",
        "  elif n == 2:\n",
        "    return True\n",
        "  for i in range(2, n):\n",
        "    if n % i == 0:\n",
        "      return False\n",
        "    else:\n",
        "      return True\n",
        "\n",
        "is_prime()"
      ],
      "metadata": {
        "id": "j6y91lxy5LZs",
        "colab": {
          "base_uri": "https://localhost:8080/"
        },
        "outputId": "4947ffa7-7051-49b6-c1d4-a9ccb3989870"
      },
      "execution_count": 68,
      "outputs": [
        {
          "name": "stdout",
          "output_type": "stream",
          "text": [
            "Enter your number. 2\n"
          ]
        },
        {
          "output_type": "execute_result",
          "data": {
            "text/plain": [
              "True"
            ]
          },
          "metadata": {},
          "execution_count": 68
        }
      ]
    },
    {
      "cell_type": "markdown",
      "source": [
        "###`Problem 13`:Print all the Armstrong numbers in a given range.\n",
        "Range will be provided by the user<br>\n",
        "Armstrong number is a number that is equal to the sum of cubes of its digits. For example 0, 1, 153, 370, 371 and 407 are the Armstrong numbers."
      ],
      "metadata": {
        "id": "asAbmbK-5NHv"
      }
    },
    {
      "cell_type": "code",
      "source": [
        "# Write code here\n",
        "def armstrong():\n",
        "  n = int(input(\"Enter your number. \"))\n",
        "  n = str(n)\n",
        "  sum = 0\n",
        "  for i in n :\n",
        "    cube = int(i) ** 3\n",
        "    sum += cube\n",
        "  if sum == int(n):\n",
        "    print(f\"{n} is an armstrong number. \")\n",
        "  else:\n",
        "      print(f\"{n} is not an armstrong number. \")\n",
        "\n",
        "armstrong()"
      ],
      "metadata": {
        "id": "PZuI67pm5jCT",
        "colab": {
          "base_uri": "https://localhost:8080/"
        },
        "outputId": "1ea039b7-fbdf-4f5b-df65-68e206452662"
      },
      "execution_count": 80,
      "outputs": [
        {
          "output_type": "stream",
          "name": "stdout",
          "text": [
            "Enter your number. 2\n",
            "2 is not an armstrong number. \n"
          ]
        }
      ]
    },
    {
      "cell_type": "markdown",
      "source": [
        "###`Problem 14`:Calculate the angle between the hour hand and minute hand.\n",
        "\n",
        "Note: There can be two angles between hands; we need to print a minimum of two. Also, we need to print the floor of the final result angle. For example, if the final angle is 10.61, we need to print 10.\n",
        "\n",
        "Input:<br>\n",
        "H = 9 , M = 0<br>\n",
        "Output:<br>\n",
        "90<br>\n",
        "Explanation:<br>\n",
        "The minimum angle between hour and minute\n",
        "hand when the time is 9 is 90 degress."
      ],
      "metadata": {
        "id": "ClCQZMqT7gK0"
      }
    },
    {
      "cell_type": "code",
      "source": [
        "# Write code here\n",
        "import math\n",
        "\n",
        "H = int(input(\"Enter the hour: \"))\n",
        "M = int(input(\"Enter the minute: \"))\n",
        "\n",
        "hour_angle = (360 / 12) * H + (30 / 60) * M\n",
        "\n",
        "minute_angle = (360 / 60) * M\n",
        "\n",
        "angle_diff = abs(hour_angle - minute_angle)\n",
        "\n",
        "if angle_diff > 180:\n",
        "    angle_diff = 360 - angle_diff\n",
        "\n",
        "print(math.floor(angle_diff))\n"
      ],
      "metadata": {
        "id": "tNBTCZML7jy_"
      },
      "execution_count": null,
      "outputs": []
    },
    {
      "cell_type": "markdown",
      "source": [
        "###`Problem 15`:Given two rectangles, find if the given two rectangles overlap or not. A rectangle is denoted by providing the x and y coordinates of two points: the left top corner and the right bottom corner of the rectangle. Two rectangles sharing a side are considered overlapping. (L1 and R1 are the extreme points of the first rectangle and L2 and R2 are the extreme points of the second rectangle).\n",
        "\n",
        "Note: It may be assumed that the rectangles are parallel to the coordinate axis.\n",
        "\n",
        "<img src='https://www.geeksforgeeks.org/wp-content/uploads/rectanglesOverlap.png' width='300' height='200'>"
      ],
      "metadata": {
        "id": "GwacF9Co72Qc"
      }
    },
    {
      "cell_type": "code",
      "source": [
        "# Write code here\n",
        "def do_rectangles_overlap(L1, R1, L2, R2):\n",
        "\n",
        "    if (R1[0] < L2[0] or L1[0] > R2[0] or R1[1] < L2[1] or L1[1] > R2[1]):\n",
        "        return False\n",
        "    else:\n",
        "        return True\n",
        "\n",
        "\n",
        "L1 = (0, 10)\n",
        "R1 = (10, 0)\n",
        "L2 = (5, 5)\n",
        "R2 = (15, 0)\n",
        "\n",
        "if do_rectangles_overlap(L1, R1, L2, R2):\n",
        "    print(\"Rectangles overlap\")\n",
        "else:\n",
        "    print(\"Rectangles do not overlap\")\n"
      ],
      "metadata": {
        "id": "6rrw_lpH78Rs",
        "colab": {
          "base_uri": "https://localhost:8080/"
        },
        "outputId": "0adb64d8-509b-4552-a652-e193e41baddd"
      },
      "execution_count": 81,
      "outputs": [
        {
          "output_type": "stream",
          "name": "stdout",
          "text": [
            "Rectangles do not overlap\n"
          ]
        }
      ]
    }
  ]
}